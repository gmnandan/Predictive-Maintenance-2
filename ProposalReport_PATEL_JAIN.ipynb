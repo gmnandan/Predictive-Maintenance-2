{
 "cells": [
  {
   "cell_type": "markdown",
   "metadata": {},
   "source": [
    "# Finding balance between corrective and preventative maintenance using predictive maintenance\n",
    "\n",
    "### Authors: Anant Jain, Viral Patel"
   ]
  },
  {
   "cell_type": "markdown",
   "metadata": {},
   "source": [
    "# Dataset Information:\n",
    "\n",
    "Dataset for our project can be summarised as follows:\n",
    "\n",
    "* Machine features: Lifecycle data of machine categorised by model type and age of a machine\n",
    "* Telemetry data: Operational data collected for various parameters such as voltage, rotation speed, pressure and vibrations using their respective sensors.\n",
    "* Maintenance Data: Machine's repair history which is documented as regular maintenance checks or replacement of different components.\n",
    "* Failure Data: Component's failure history and their time of replacement.\n",
    "\n",
    "Here we should take into account of a fact that failure data may be contained in maintenance data which can be in the form of parts replacement log or special error codes. So, in such cases we can extract the failure data from the maintenance data. It may be possible that there may be some correlation of some other variables with failure history which can help us identify a pattern of instances of failures. This type of correlation is hugely dependent on respective business domains.\n",
    "\n",
    "Example of similar cases where this type of data is used for prediction :\n",
    "    \n",
    "**Machine conditions and usage:** Cruise ship scheduling data, sensor data collected from turbine engines of aircrafts, elevators condition data, ATM operational data, Train's condition data, Car's engine data.\n",
    "    \n",
    "**Machine features:** Technical specification of each machine. e.g. In case of Car's data we need the build date,age,usage data of the type of engine. \n",
    "\n",
    "**Failure history:** In case of cruise ship, we need data such as arrival delay, departure delay, component failure history.In In case of wind turbine we need data such as gearbox failures, blade failures, Motor failures.\n",
    "\n",
    "**Maintenance history:** In case of CNC machine headstock, tailstock, chuck and tool maintenance logs also PLC circuit maintenance logs can help in determining rate of replacements of components.\n",
    "\n",
    "We consider two main type of data types in case of predictive maintenance which is static data type and temporal data type. Telemetry data, Maintenance data and Failure data can be considered as time series data since they are designated with the time when data is collected. This data can be collected from a range of sources which can be either manual data entry or  using observational sensors. On the other hand Machine features and their technical specifications is of type static since it doesn't change after being recorded.\n",
    "\n",
    "# Step 1:  Data Ingestion and Exploratory Analysis"
   ]
  },
  {
   "cell_type": "markdown",
   "metadata": {},
   "source": [
    "## Imports"
   ]
  },
  {
   "cell_type": "code",
   "execution_count": 5,
   "metadata": {
    "collapsed": true,
    "scrolled": true
   },
   "outputs": [],
   "source": [
    "import numpy as np\n",
    "import pandas as pd \n",
    "from matplotlib import pyplot as plt"
   ]
  },
  {
   "cell_type": "markdown",
   "metadata": {},
   "source": [
    "### Machines Dataset:\n",
    "\n",
    "This dataset contains data about Machine Specification by model type and age of 1000 machines. \n",
    "\n",
    "It includes data about each machine's Machine ID, model type and age. "
   ]
  },
  {
   "cell_type": "code",
   "execution_count": 6,
   "metadata": {},
   "outputs": [
    {
     "data": {
      "text/html": [
       "<div>\n",
       "<style>\n",
       "    .dataframe thead tr:only-child th {\n",
       "        text-align: right;\n",
       "    }\n",
       "\n",
       "    .dataframe thead th {\n",
       "        text-align: left;\n",
       "    }\n",
       "\n",
       "    .dataframe tbody tr th {\n",
       "        vertical-align: top;\n",
       "    }\n",
       "</style>\n",
       "<table border=\"1\" class=\"dataframe\">\n",
       "  <thead>\n",
       "    <tr style=\"text-align: right;\">\n",
       "      <th></th>\n",
       "      <th>machineID</th>\n",
       "      <th>model</th>\n",
       "      <th>age</th>\n",
       "    </tr>\n",
       "  </thead>\n",
       "  <tbody>\n",
       "    <tr>\n",
       "      <th>0</th>\n",
       "      <td>1</td>\n",
       "      <td>model2</td>\n",
       "      <td>18</td>\n",
       "    </tr>\n",
       "    <tr>\n",
       "      <th>1</th>\n",
       "      <td>2</td>\n",
       "      <td>model4</td>\n",
       "      <td>7</td>\n",
       "    </tr>\n",
       "    <tr>\n",
       "      <th>2</th>\n",
       "      <td>3</td>\n",
       "      <td>model3</td>\n",
       "      <td>8</td>\n",
       "    </tr>\n",
       "    <tr>\n",
       "      <th>3</th>\n",
       "      <td>4</td>\n",
       "      <td>model3</td>\n",
       "      <td>7</td>\n",
       "    </tr>\n",
       "    <tr>\n",
       "      <th>4</th>\n",
       "      <td>5</td>\n",
       "      <td>model2</td>\n",
       "      <td>2</td>\n",
       "    </tr>\n",
       "  </tbody>\n",
       "</table>\n",
       "</div>"
      ],
      "text/plain": [
       "   machineID   model  age\n",
       "0          1  model2   18\n",
       "1          2  model4    7\n",
       "2          3  model3    8\n",
       "3          4  model3    7\n",
       "4          5  model2    2"
      ]
     },
     "execution_count": 6,
     "metadata": {},
     "output_type": "execute_result"
    }
   ],
   "source": [
    "machines = pd.read_csv('machines.csv', encoding='utf-8') \n",
    "machines.head()"
   ]
  },
  {
   "cell_type": "code",
   "execution_count": 7,
   "metadata": {
    "scrolled": false
   },
   "outputs": [
    {
     "data": {
      "text/html": [
       "<div>\n",
       "<style>\n",
       "    .dataframe thead tr:only-child th {\n",
       "        text-align: right;\n",
       "    }\n",
       "\n",
       "    .dataframe thead th {\n",
       "        text-align: left;\n",
       "    }\n",
       "\n",
       "    .dataframe tbody tr th {\n",
       "        vertical-align: top;\n",
       "    }\n",
       "</style>\n",
       "<table border=\"1\" class=\"dataframe\">\n",
       "  <thead>\n",
       "    <tr style=\"text-align: right;\">\n",
       "      <th></th>\n",
       "      <th>machineID</th>\n",
       "      <th>age</th>\n",
       "    </tr>\n",
       "  </thead>\n",
       "  <tbody>\n",
       "    <tr>\n",
       "      <th>count</th>\n",
       "      <td>1000.000000</td>\n",
       "      <td>1000.000000</td>\n",
       "    </tr>\n",
       "    <tr>\n",
       "      <th>mean</th>\n",
       "      <td>500.500000</td>\n",
       "      <td>9.862000</td>\n",
       "    </tr>\n",
       "    <tr>\n",
       "      <th>std</th>\n",
       "      <td>288.819436</td>\n",
       "      <td>6.092789</td>\n",
       "    </tr>\n",
       "    <tr>\n",
       "      <th>min</th>\n",
       "      <td>1.000000</td>\n",
       "      <td>0.000000</td>\n",
       "    </tr>\n",
       "    <tr>\n",
       "      <th>25%</th>\n",
       "      <td>250.750000</td>\n",
       "      <td>5.000000</td>\n",
       "    </tr>\n",
       "    <tr>\n",
       "      <th>50%</th>\n",
       "      <td>500.500000</td>\n",
       "      <td>10.000000</td>\n",
       "    </tr>\n",
       "    <tr>\n",
       "      <th>75%</th>\n",
       "      <td>750.250000</td>\n",
       "      <td>15.000000</td>\n",
       "    </tr>\n",
       "    <tr>\n",
       "      <th>max</th>\n",
       "      <td>1000.000000</td>\n",
       "      <td>20.000000</td>\n",
       "    </tr>\n",
       "  </tbody>\n",
       "</table>\n",
       "</div>"
      ],
      "text/plain": [
       "         machineID          age\n",
       "count  1000.000000  1000.000000\n",
       "mean    500.500000     9.862000\n",
       "std     288.819436     6.092789\n",
       "min       1.000000     0.000000\n",
       "25%     250.750000     5.000000\n",
       "50%     500.500000    10.000000\n",
       "75%     750.250000    15.000000\n",
       "max    1000.000000    20.000000"
      ]
     },
     "execution_count": 7,
     "metadata": {},
     "output_type": "execute_result"
    }
   ],
   "source": [
    "machines.describe()"
   ]
  },
  {
   "cell_type": "markdown",
   "metadata": {},
   "source": [
    "The following figure plots a histogram of the machines age colored by respective model type."
   ]
  },
  {
   "cell_type": "code",
   "execution_count": 8,
   "metadata": {
    "scrolled": true
   },
   "outputs": [
    {
     "name": "stderr",
     "output_type": "stream",
     "text": [
      "C:\\ProgramData\\Anaconda3\\lib\\site-packages\\numpy\\core\\fromnumeric.py:57: FutureWarning: reshape is deprecated and will raise in a subsequent release. Please use .values.reshape(...) instead\n",
      "  return getattr(obj, method)(*args, **kwds)\n"
     ]
    },
    {
     "data": {
      "image/png": "[encoded data removed]",
      "text/plain": [
       "<matplotlib.figure.Figure at 0x27a2bf15358>"
      ]
     },
     "metadata": {},
     "output_type": "display_data"
    }
   ],
   "source": [
    "plt.hist([machines.loc[machines['model'] == 'model1', 'age'],\n",
    "                       machines.loc[machines['model'] == 'model2', 'age'],\n",
    "                       machines.loc[machines['model'] == 'model3', 'age'],\n",
    "                       machines.loc[machines['model'] == 'model4', 'age']],\n",
    "                       label=['model1', 'model2', 'model3', 'model4'])\n",
    "plt.xlabel('Age')\n",
    "plt.ylabel('Number of Machines')\n",
    "plt.legend()\n",
    "plt.show()"
   ]
  },
  {
   "cell_type": "markdown",
   "metadata": {},
   "source": [
    "This figure shows lifecycle of each machine. The machine age is a important feature for analysis because various errors and failures of machines largely depend on it. We can see that for all age intervals the number of machines are always highest for model 3 followed by model 4, model 2 and model 1.\n"
   ]
  },
  {
   "cell_type": "markdown",
   "metadata": {},
   "source": [
    "### Errors  Dataset:\n",
    "\n",
    "The errors log contains list of errors which occured during operational state of machine which can also be stated as non breaking erros. Even though these errors can't be directly considered as failure reports but considering these error logs can highly help in our analysis since many errors can give us clear prediction about future failures. Here the datetime data is stored and rounded as an hourly rate."
   ]
  },
  {
   "cell_type": "code",
   "execution_count": 9,
   "metadata": {
    "scrolled": true
   },
   "outputs": [
    {
     "data": {
      "text/html": [
       "<div>\n",
       "<style>\n",
       "    .dataframe thead tr:only-child th {\n",
       "        text-align: right;\n",
       "    }\n",
       "\n",
       "    .dataframe thead th {\n",
       "        text-align: left;\n",
       "    }\n",
       "\n",
       "    .dataframe tbody tr th {\n",
       "        vertical-align: top;\n",
       "    }\n",
       "</style>\n",
       "<table border=\"1\" class=\"dataframe\">\n",
       "  <thead>\n",
       "    <tr style=\"text-align: right;\">\n",
       "      <th></th>\n",
       "      <th>datetime</th>\n",
       "      <th>machineID</th>\n",
       "      <th>errorID</th>\n",
       "    </tr>\n",
       "  </thead>\n",
       "  <tbody>\n",
       "    <tr>\n",
       "      <th>0</th>\n",
       "      <td>2015-01-06 03:00:00</td>\n",
       "      <td>1</td>\n",
       "      <td>error3</td>\n",
       "    </tr>\n",
       "    <tr>\n",
       "      <th>1</th>\n",
       "      <td>2015-02-03 06:00:00</td>\n",
       "      <td>1</td>\n",
       "      <td>error4</td>\n",
       "    </tr>\n",
       "    <tr>\n",
       "      <th>2</th>\n",
       "      <td>2015-02-21 11:00:00</td>\n",
       "      <td>1</td>\n",
       "      <td>error1</td>\n",
       "    </tr>\n",
       "    <tr>\n",
       "      <th>3</th>\n",
       "      <td>2015-02-21 16:00:00</td>\n",
       "      <td>1</td>\n",
       "      <td>error2</td>\n",
       "    </tr>\n",
       "    <tr>\n",
       "      <th>4</th>\n",
       "      <td>2015-03-20 06:00:00</td>\n",
       "      <td>1</td>\n",
       "      <td>error1</td>\n",
       "    </tr>\n",
       "  </tbody>\n",
       "</table>\n",
       "</div>"
      ],
      "text/plain": [
       "              datetime  machineID errorID\n",
       "0  2015-01-06 03:00:00          1  error3\n",
       "1  2015-02-03 06:00:00          1  error4\n",
       "2  2015-02-21 11:00:00          1  error1\n",
       "3  2015-02-21 16:00:00          1  error2\n",
       "4  2015-03-20 06:00:00          1  error1"
      ]
     },
     "execution_count": 9,
     "metadata": {},
     "output_type": "execute_result"
    }
   ],
   "source": [
    "errors = pd.read_csv('errors.csv', encoding='utf-8')\n",
    "errors.head()"
   ]
  },
  {
   "cell_type": "code",
   "execution_count": 10,
   "metadata": {},
   "outputs": [
    {
     "data": {
      "text/plain": [
       "datetime     11967\n",
       "machineID    11967\n",
       "errorID      11967\n",
       "dtype: int64"
      ]
     },
     "execution_count": 10,
     "metadata": {},
     "output_type": "execute_result"
    }
   ],
   "source": [
    "errors['datetime'] = pd.to_datetime(errors['datetime'], format=\"%Y-%m-%d %H:%M:%S\") #string to date time format.V:Wasn't datetime already in the ymd-hms format??\n",
    "errors.count()"
   ]
  },
  {
   "cell_type": "markdown",
   "metadata": {},
   "source": [
    "The following histogram gives details about count of errors during considered time interval."
   ]
  },
  {
   "cell_type": "code",
   "execution_count": 12,
   "metadata": {
    "scrolled": false
   },
   "outputs": [
    {
     "data": {
      "image/png": "[encoded data removed]",
      "text/plain": [
       "<matplotlib.figure.Figure at 0x27a2c18ad30>"
      ]
     },
     "metadata": {},
     "output_type": "display_data"
    }
   ],
   "source": [
    "errors['errorID'].value_counts().plot(kind='bar')\n",
    "plt.ylabel('Number of Errors')\n",
    "plt.show()"
   ]
  },
  {
   "cell_type": "markdown",
   "metadata": {},
   "source": [
    "Here as stated in the introduction about the dataset the error data is a time series data about the five different classes of error which occured throughout the year. Plotting the error log for each machine will not be much helpful here since there are total of 1000 machines. Thus, it will be very unconstructive to go through analysis of each and every machine."
   ]
  },
  {
   "cell_type": "markdown",
   "metadata": {},
   "source": [
    "### Maintenance Dataset:\n",
    "\n",
    "Here Maintenance records contains both scheduleld and unscheduled maintenance checks. Schedule maintenance infers to periodic inspections or service of an equipment and unscheduled maintenance infers to immediate maintenance needs which may be due to performance degradataions and failures of machines. A failure record can be generated for both the cases of maintenance. Maintenance records can be used to calculate the component's life, the maintenance data is collected over years 2014 and 2015 instead of only the year of 2015 which is considered in other data."
   ]
  },
  {
   "cell_type": "code",
   "execution_count": 13,
   "metadata": {},
   "outputs": [
    {
     "data": {
      "text/html": [
       "<div>\n",
       "<style>\n",
       "    .dataframe thead tr:only-child th {\n",
       "        text-align: right;\n",
       "    }\n",
       "\n",
       "    .dataframe thead th {\n",
       "        text-align: left;\n",
       "    }\n",
       "\n",
       "    .dataframe tbody tr th {\n",
       "        vertical-align: top;\n",
       "    }\n",
       "</style>\n",
       "<table border=\"1\" class=\"dataframe\">\n",
       "  <thead>\n",
       "    <tr style=\"text-align: right;\">\n",
       "      <th></th>\n",
       "      <th>datetime</th>\n",
       "      <th>machineID</th>\n",
       "      <th>comp</th>\n",
       "    </tr>\n",
       "  </thead>\n",
       "  <tbody>\n",
       "    <tr>\n",
       "      <th>0</th>\n",
       "      <td>2014-07-01 06:00:00</td>\n",
       "      <td>1</td>\n",
       "      <td>comp4</td>\n",
       "    </tr>\n",
       "    <tr>\n",
       "      <th>1</th>\n",
       "      <td>2014-09-14 06:00:00</td>\n",
       "      <td>1</td>\n",
       "      <td>comp1</td>\n",
       "    </tr>\n",
       "    <tr>\n",
       "      <th>2</th>\n",
       "      <td>2014-09-14 06:00:00</td>\n",
       "      <td>1</td>\n",
       "      <td>comp2</td>\n",
       "    </tr>\n",
       "    <tr>\n",
       "      <th>3</th>\n",
       "      <td>2014-11-13 06:00:00</td>\n",
       "      <td>1</td>\n",
       "      <td>comp3</td>\n",
       "    </tr>\n",
       "    <tr>\n",
       "      <th>4</th>\n",
       "      <td>2015-01-05 06:00:00</td>\n",
       "      <td>1</td>\n",
       "      <td>comp1</td>\n",
       "    </tr>\n",
       "  </tbody>\n",
       "</table>\n",
       "</div>"
      ],
      "text/plain": [
       "              datetime  machineID   comp\n",
       "0  2014-07-01 06:00:00          1  comp4\n",
       "1  2014-09-14 06:00:00          1  comp1\n",
       "2  2014-09-14 06:00:00          1  comp2\n",
       "3  2014-11-13 06:00:00          1  comp3\n",
       "4  2015-01-05 06:00:00          1  comp1"
      ]
     },
     "execution_count": 13,
     "metadata": {},
     "output_type": "execute_result"
    }
   ],
   "source": [
    "maint = pd.read_csv('maint.csv', encoding='utf-8')\n",
    "maint.head()"
   ]
  },
  {
   "cell_type": "code",
   "execution_count": 14,
   "metadata": {
    "scrolled": false
   },
   "outputs": [
    {
     "data": {
      "text/plain": [
       "datetime     32592\n",
       "machineID    32592\n",
       "comp         32592\n",
       "dtype: int64"
      ]
     },
     "execution_count": 14,
     "metadata": {},
     "output_type": "execute_result"
    }
   ],
   "source": [
    "maint['datetime'] = pd.to_datetime(maint['datetime'], format=\"%Y-%m-%d %H:%M:%S\")\n",
    "maint.count()"
   ]
  },
  {
   "cell_type": "code",
   "execution_count": 15,
   "metadata": {
    "scrolled": false
   },
   "outputs": [
    {
     "data": {
      "image/png": "[encoded data removed]",
      "text/plain": [
       "<matplotlib.figure.Figure at 0x27a2c227470>"
      ]
     },
     "metadata": {},
     "output_type": "display_data"
    }
   ],
   "source": [
    "maint['comp'].value_counts().plot(kind='bar')\n",
    "plt.ylabel('Number of replacements')\n",
    "plt.show()"
   ]
  },
  {
   "cell_type": "markdown",
   "metadata": {},
   "source": [
    "Above histogram shows analysis of component replacement history into four different categories over the years. From the graph it can be inferred that the components are replaced at similar rates.\n",
    "\n",
    "Further analysis on this data can help us understand the underlying pattern about the lifetime of each component or the time history of replacements within each machine. Preprocessing of this data is discussed in our feature engineering section."
   ]
  },
  {
   "cell_type": "markdown",
   "metadata": {},
   "source": [
    "### Telemetry Dataset:\n",
    "\n",
    "Telemetry is an automated communication system which measures and collects the data using sensors at remote server and transmits it to a recepient equipment for monitoring. Here the it contains real time data of voltage, pressure, vibration and rotation of a machine.  The final data is measured by averaging the data over an hour and stored in the telemetry history.\n",
    "\n",
    "   It is important to calculate volatge data since many circuits are designed to handle only certain number of volts. Fluctuation in voltage can also be a reason for circuit failure. Also vibrational data and rotation data is a useful tool which is heavily used to measure tool's current condition which helps us to calculate remaining life span of that component.\n",
    "    \n",
    "   In any heavy machinary industry, operation cycle heavyly depends on maintaning right pressure in the machine. For exapmple, during any high speed operations such as cutting operation it is very important to maintain high pressure of cutting liquid which will help us reduce the wear and tear of the equipment and prevent breakdown of the system."
   ]
  },
  {
   "cell_type": "code",
   "execution_count": 16,
   "metadata": {
    "scrolled": true
   },
   "outputs": [
    {
     "data": {
      "text/html": [
       "<div>\n",
       "<style>\n",
       "    .dataframe thead tr:only-child th {\n",
       "        text-align: right;\n",
       "    }\n",
       "\n",
       "    .dataframe thead th {\n",
       "        text-align: left;\n",
       "    }\n",
       "\n",
       "    .dataframe tbody tr th {\n",
       "        vertical-align: top;\n",
       "    }\n",
       "</style>\n",
       "<table border=\"1\" class=\"dataframe\">\n",
       "  <thead>\n",
       "    <tr style=\"text-align: right;\">\n",
       "      <th></th>\n",
       "      <th>datetime</th>\n",
       "      <th>machineID</th>\n",
       "      <th>volt</th>\n",
       "      <th>rotate</th>\n",
       "      <th>pressure</th>\n",
       "      <th>vibration</th>\n",
       "    </tr>\n",
       "  </thead>\n",
       "  <tbody>\n",
       "    <tr>\n",
       "      <th>0</th>\n",
       "      <td>2015-01-01 06:00:00</td>\n",
       "      <td>1</td>\n",
       "      <td>151.919999</td>\n",
       "      <td>530.813578</td>\n",
       "      <td>101.788175</td>\n",
       "      <td>49.604013</td>\n",
       "    </tr>\n",
       "    <tr>\n",
       "      <th>1</th>\n",
       "      <td>2015-01-01 07:00:00</td>\n",
       "      <td>1</td>\n",
       "      <td>174.522001</td>\n",
       "      <td>535.523532</td>\n",
       "      <td>113.256009</td>\n",
       "      <td>41.515905</td>\n",
       "    </tr>\n",
       "    <tr>\n",
       "      <th>2</th>\n",
       "      <td>2015-01-01 08:00:00</td>\n",
       "      <td>1</td>\n",
       "      <td>146.912822</td>\n",
       "      <td>456.080746</td>\n",
       "      <td>107.786965</td>\n",
       "      <td>42.099694</td>\n",
       "    </tr>\n",
       "    <tr>\n",
       "      <th>3</th>\n",
       "      <td>2015-01-01 09:00:00</td>\n",
       "      <td>1</td>\n",
       "      <td>179.530561</td>\n",
       "      <td>503.469990</td>\n",
       "      <td>108.283817</td>\n",
       "      <td>37.847727</td>\n",
       "    </tr>\n",
       "    <tr>\n",
       "      <th>4</th>\n",
       "      <td>2015-01-01 10:00:00</td>\n",
       "      <td>1</td>\n",
       "      <td>180.544277</td>\n",
       "      <td>371.600611</td>\n",
       "      <td>107.553307</td>\n",
       "      <td>41.467880</td>\n",
       "    </tr>\n",
       "  </tbody>\n",
       "</table>\n",
       "</div>"
      ],
      "text/plain": [
       "              datetime  machineID        volt      rotate    pressure  \\\n",
       "0  2015-01-01 06:00:00          1  151.919999  530.813578  101.788175   \n",
       "1  2015-01-01 07:00:00          1  174.522001  535.523532  113.256009   \n",
       "2  2015-01-01 08:00:00          1  146.912822  456.080746  107.786965   \n",
       "3  2015-01-01 09:00:00          1  179.530561  503.469990  108.283817   \n",
       "4  2015-01-01 10:00:00          1  180.544277  371.600611  107.553307   \n",
       "\n",
       "   vibration  \n",
       "0  49.604013  \n",
       "1  41.515905  \n",
       "2  42.099694  \n",
       "3  37.847727  \n",
       "4  41.467880  "
      ]
     },
     "execution_count": 16,
     "metadata": {},
     "output_type": "execute_result"
    }
   ],
   "source": [
    "telemetry = pd.read_csv('telemetry.csv', encoding='utf-8')\n",
    "telemetry.head()"
   ]
  },
  {
   "cell_type": "code",
   "execution_count": 17,
   "metadata": {
    "scrolled": true
   },
   "outputs": [
    {
     "data": {
      "text/html": [
       "<div>\n",
       "<style>\n",
       "    .dataframe thead tr:only-child th {\n",
       "        text-align: right;\n",
       "    }\n",
       "\n",
       "    .dataframe thead th {\n",
       "        text-align: left;\n",
       "    }\n",
       "\n",
       "    .dataframe tbody tr th {\n",
       "        vertical-align: top;\n",
       "    }\n",
       "</style>\n",
       "<table border=\"1\" class=\"dataframe\">\n",
       "  <thead>\n",
       "    <tr style=\"text-align: right;\">\n",
       "      <th></th>\n",
       "      <th>machineID</th>\n",
       "      <th>volt</th>\n",
       "      <th>rotate</th>\n",
       "      <th>pressure</th>\n",
       "      <th>vibration</th>\n",
       "    </tr>\n",
       "  </thead>\n",
       "  <tbody>\n",
       "    <tr>\n",
       "      <th>count</th>\n",
       "      <td>8.761000e+06</td>\n",
       "      <td>8.761000e+06</td>\n",
       "      <td>8.761000e+06</td>\n",
       "      <td>8.761000e+06</td>\n",
       "      <td>8.761000e+06</td>\n",
       "    </tr>\n",
       "    <tr>\n",
       "      <th>mean</th>\n",
       "      <td>5.005000e+02</td>\n",
       "      <td>1.707600e+02</td>\n",
       "      <td>4.466014e+02</td>\n",
       "      <td>1.008371e+02</td>\n",
       "      <td>4.034961e+01</td>\n",
       "    </tr>\n",
       "    <tr>\n",
       "      <th>std</th>\n",
       "      <td>2.886750e+02</td>\n",
       "      <td>1.550153e+01</td>\n",
       "      <td>5.261507e+01</td>\n",
       "      <td>1.099671e+01</td>\n",
       "      <td>5.337052e+00</td>\n",
       "    </tr>\n",
       "    <tr>\n",
       "      <th>min</th>\n",
       "      <td>1.000000e+00</td>\n",
       "      <td>8.778085e+01</td>\n",
       "      <td>1.021730e+02</td>\n",
       "      <td>4.862230e+01</td>\n",
       "      <td>1.435719e+01</td>\n",
       "    </tr>\n",
       "    <tr>\n",
       "      <th>25%</th>\n",
       "      <td>2.507500e+02</td>\n",
       "      <td>1.602964e+02</td>\n",
       "      <td>4.123434e+02</td>\n",
       "      <td>9.351999e+01</td>\n",
       "      <td>3.676380e+01</td>\n",
       "    </tr>\n",
       "    <tr>\n",
       "      <th>50%</th>\n",
       "      <td>5.005000e+02</td>\n",
       "      <td>1.705825e+02</td>\n",
       "      <td>4.475924e+02</td>\n",
       "      <td>1.004187e+02</td>\n",
       "      <td>4.021151e+01</td>\n",
       "    </tr>\n",
       "    <tr>\n",
       "      <th>75%</th>\n",
       "      <td>7.502500e+02</td>\n",
       "      <td>1.810046e+02</td>\n",
       "      <td>4.821119e+02</td>\n",
       "      <td>1.075293e+02</td>\n",
       "      <td>4.374465e+01</td>\n",
       "    </tr>\n",
       "    <tr>\n",
       "      <th>max</th>\n",
       "      <td>1.000000e+03</td>\n",
       "      <td>2.726818e+02</td>\n",
       "      <td>7.001998e+02</td>\n",
       "      <td>1.952711e+02</td>\n",
       "      <td>7.910749e+01</td>\n",
       "    </tr>\n",
       "  </tbody>\n",
       "</table>\n",
       "</div>"
      ],
      "text/plain": [
       "          machineID          volt        rotate      pressure     vibration\n",
       "count  8.761000e+06  8.761000e+06  8.761000e+06  8.761000e+06  8.761000e+06\n",
       "mean   5.005000e+02  1.707600e+02  4.466014e+02  1.008371e+02  4.034961e+01\n",
       "std    2.886750e+02  1.550153e+01  5.261507e+01  1.099671e+01  5.337052e+00\n",
       "min    1.000000e+00  8.778085e+01  1.021730e+02  4.862230e+01  1.435719e+01\n",
       "25%    2.507500e+02  1.602964e+02  4.123434e+02  9.351999e+01  3.676380e+01\n",
       "50%    5.005000e+02  1.705825e+02  4.475924e+02  1.004187e+02  4.021151e+01\n",
       "75%    7.502500e+02  1.810046e+02  4.821119e+02  1.075293e+02  4.374465e+01\n",
       "max    1.000000e+03  2.726818e+02  7.001998e+02  1.952711e+02  7.910749e+01"
      ]
     },
     "execution_count": 17,
     "metadata": {},
     "output_type": "execute_result"
    }
   ],
   "source": [
    "telemetry.describe()"
   ]
  },
  {
   "cell_type": "code",
   "execution_count": 18,
   "metadata": {},
   "outputs": [
    {
     "data": {
      "image/png": "[encoded data removed]",
      "text/plain": [
       "<matplotlib.figure.Figure at 0x27a2d4b79b0>"
      ]
     },
     "metadata": {},
     "output_type": "display_data"
    },
    {
     "data": {
      "image/png": "[encoded data removed]",
      "text/plain": [
       "<matplotlib.figure.Figure at 0x27a4c9e3470>"
      ]
     },
     "metadata": {},
     "output_type": "display_data"
    },
    {
     "data": {
      "image/png": "[encoded data removed]",
      "text/plain": [
       "<matplotlib.figure.Figure at 0x27a2d53a5c0>"
      ]
     },
     "metadata": {},
     "output_type": "display_data"
    },
    {
     "data": {
      "image/png": "[encoded data removed]",
      "text/plain": [
       "<matplotlib.figure.Figure at 0x27a2d56d898>"
      ]
     },
     "metadata": {},
     "output_type": "display_data"
    }
   ],
   "source": [
    "telemetry['datetime'] = pd.to_datetime(telemetry['datetime'], format=\"%Y-%m-%d %H:%M:%S\")\n",
    "\n",
    "df = telemetry.loc[(telemetry['machineID'] == 1) &\n",
    "                        (telemetry['datetime'] > pd.to_datetime('2015-01-01')) &\n",
    "                        (telemetry['datetime'] < pd.to_datetime('2015-02-01')), ['datetime', 'volt', 'rotate', 'pressure', 'vibration']]\n",
    "\n",
    "plt.plot(df['datetime'], df['volt'])\n",
    "plt.ylabel('volt')\n",
    "plt.show()\n",
    "plt.plot(df['datetime'], df['rotate'])\n",
    "plt.ylabel('rotate')\n",
    "plt.show()\n",
    "plt.plot(df['datetime'], df['pressure'])\n",
    "plt.ylabel('pressure')\n",
    "plt.show()\n",
    "plt.plot(df['datetime'], df['vibration'])\n",
    "plt.ylabel('vibration')\n",
    "plt.show()"
   ]
  },
  {
   "cell_type": "markdown",
   "metadata": {},
   "source": [
    "Above figure shows telelmetry data of one month for one machine which is plotted separately for each type of sensors."
   ]
  },
  {
   "cell_type": "markdown",
   "metadata": {},
   "source": [
    "### Failures Dataset:\n",
    "\n",
    "Failures data consists of information about component replacements with their replacement time stamp and machine ID. This dataset is built from component replacement history from maintenance dataset. Using this data we are creating machine learning labels for predicting failures."
   ]
  },
  {
   "cell_type": "code",
   "execution_count": 19,
   "metadata": {
    "scrolled": false
   },
   "outputs": [
    {
     "data": {
      "text/html": [
       "<div>\n",
       "<style>\n",
       "    .dataframe thead tr:only-child th {\n",
       "        text-align: right;\n",
       "    }\n",
       "\n",
       "    .dataframe thead th {\n",
       "        text-align: left;\n",
       "    }\n",
       "\n",
       "    .dataframe tbody tr th {\n",
       "        vertical-align: top;\n",
       "    }\n",
       "</style>\n",
       "<table border=\"1\" class=\"dataframe\">\n",
       "  <thead>\n",
       "    <tr style=\"text-align: right;\">\n",
       "      <th></th>\n",
       "      <th>datetime</th>\n",
       "      <th>machineID</th>\n",
       "      <th>failure</th>\n",
       "    </tr>\n",
       "  </thead>\n",
       "  <tbody>\n",
       "    <tr>\n",
       "      <th>0</th>\n",
       "      <td>2015-02-04 06:00:00</td>\n",
       "      <td>1</td>\n",
       "      <td>comp3</td>\n",
       "    </tr>\n",
       "    <tr>\n",
       "      <th>1</th>\n",
       "      <td>2015-03-21 06:00:00</td>\n",
       "      <td>1</td>\n",
       "      <td>comp1</td>\n",
       "    </tr>\n",
       "    <tr>\n",
       "      <th>2</th>\n",
       "      <td>2015-04-05 06:00:00</td>\n",
       "      <td>1</td>\n",
       "      <td>comp4</td>\n",
       "    </tr>\n",
       "    <tr>\n",
       "      <th>3</th>\n",
       "      <td>2015-05-05 06:00:00</td>\n",
       "      <td>1</td>\n",
       "      <td>comp3</td>\n",
       "    </tr>\n",
       "    <tr>\n",
       "      <th>4</th>\n",
       "      <td>2015-05-20 06:00:00</td>\n",
       "      <td>1</td>\n",
       "      <td>comp2</td>\n",
       "    </tr>\n",
       "  </tbody>\n",
       "</table>\n",
       "</div>"
      ],
      "text/plain": [
       "              datetime  machineID failure\n",
       "0  2015-02-04 06:00:00          1   comp3\n",
       "1  2015-03-21 06:00:00          1   comp1\n",
       "2  2015-04-05 06:00:00          1   comp4\n",
       "3  2015-05-05 06:00:00          1   comp3\n",
       "4  2015-05-20 06:00:00          1   comp2"
      ]
     },
     "execution_count": 19,
     "metadata": {},
     "output_type": "execute_result"
    }
   ],
   "source": [
    "failures = pd.read_csv('failures.csv', encoding='utf-8')\n",
    "failures.head()"
   ]
  },
  {
   "cell_type": "code",
   "execution_count": 20,
   "metadata": {
    "scrolled": false
   },
   "outputs": [
    {
     "data": {
      "text/plain": [
       "datetime     6726\n",
       "machineID    6726\n",
       "failure      6726\n",
       "dtype: int64"
      ]
     },
     "execution_count": 20,
     "metadata": {},
     "output_type": "execute_result"
    }
   ],
   "source": [
    "failures['datetime'] = pd.to_datetime(failures['datetime'], format=\"%Y-%m-%d %H:%M:%S\")\n",
    "failures.count()"
   ]
  },
  {
   "cell_type": "code",
   "execution_count": 21,
   "metadata": {
    "scrolled": false
   },
   "outputs": [
    {
     "data": {
      "image/png": "[encoded data removed]",
      "text/plain": [
       "<matplotlib.figure.Figure at 0x27a2d48bef0>"
      ]
     },
     "metadata": {},
     "output_type": "display_data"
    }
   ],
   "source": [
    "failures['failure'].value_counts().plot(kind='bar')\n",
    "plt.ylabel('Number of failures')\n",
    "plt.show()"
   ]
  },
  {
   "cell_type": "markdown",
   "metadata": {},
   "source": [
    "The above histogram counts the number of failures related replacements which has been occured for each of the component type. "
   ]
  },
  {
   "cell_type": "markdown",
   "metadata": {},
   "source": [
    "# Step 2: Feature engineering \n",
    "\n",
    "In this step we will combine the different data sources to generate a single data set of features which will be used to summarise the machine's life cycle over a period of time. We will be generating a single record for each time unit mentioned in the final dataset. This records will contain various features and labels to generate a model which will be then provided to the machine learning algorithm to make predictions on the dataset.\n",
    "\n",
    "In predictive maintenance we take history of condition of a machine at different times and predict the current health of the machine or component and use that to predict probability of failure in future. This problem can be  solved using time series classification methods. This is a binary classification problem using time series as predictor.\n",
    "\n",
    "### Lag features\n",
    "\n",
    "A time series data must be restructured as supervised learning problem. There are many different approaches to create feataures from time series data. we must choose the variable to be predicted and use feature engineering to construct all of the inputs that will be used to make predictions for future time steps First and foremost we divide the duration of data collection into time units in which each record points to a single point in time. The measurement unit choice can be considered arbitrary in this case. Time can be measured in months,days,hours, minutes etc. Unit choice is depended on it's use case domain.\n",
    "\n",
    "Furthermore, If the time unit doesn't change frequently we can also use some statistical methods to generalize the pattern of change. For example, if we are calculating temperature change in a day then measurement of temperature every 5 seconds will be trivial for the overall pattern. Instead of that, we can consider the temperature change over a longer time interval which might explain patterns that contribute better for predicting the target variable.\n",
    "\n",
    "After setting the frequency of observations, we are lookinng for the trends with different measurements over time, in order to predict performance degradation of machine, it's deterioration rate with time and connect all this with it's probability of failure. We are then creating features for these trends for each record using time lag window as a parameter over previous observations to determine machine's performance. Here lag window size is a hyperparameter which can be optimized using different methods such as cross - validation. We can also use a rolling window strategy where we calculate summary statistics such as mean over a window from previous observations.\n",
    "\n",
    "For above mentioned summary statistics we can also use various other measures such as standard deviation, outliers, count of failures, cumulative sum of measures, minimum and maximum over the window size.\n",
    "\n",
    "There is also another approach named tumbling window approach. Tumbling windows are a series of fixed-sized, non-overlapping and contiguous time intervals. For example, if we might have observations of every hours and then want to put them all together to create features aligned on a day or monthly basis.\n",
    "\n",
    "For building features of our projects we use only a rolling window approach to demonstrate the overall process. We first align the data and then build features from those normalized observations in time."
   ]
  },
  {
   "cell_type": "markdown",
   "metadata": {},
   "source": [
    "## Transforming Telemetry features\n",
    "\n",
    "From all of our datassets telemetry dataset is the largest time series data which has 8761000 hourly observation for 1000 machines.Since, There is not much variation observed for hourly observations, we transform the data by averaging sensor measures over 12 hour tumbling window. After this transformation, we are replacing the row data with tumbling window data, reducing it to 731000 observations. As a benefit of this approach it will reduce computation time required for feature engineering, modelling and labelling.\n",
    "\n",
    "After reducing the data, we calculate our lag features by rolling aggregate measures such as mean, standard deviation, minimum, maximum to analyze the intermediate history of telemetry data.\n",
    "\n",
    "The following code arranges the data to 12 hour observations and then calculates the mean and standard deviation for 12 and 24 hour time lags."
   ]
  },
  {
   "cell_type": "code",
   "execution_count": 22,
   "metadata": {
    "collapsed": true
   },
   "outputs": [],
   "source": [
    "# Calculate mean values for telemetry features\n",
    "temp = []\n",
    "fields = ['volt', 'rotate', 'pressure', 'vibration']\n",
    "for col in fields:\n",
    "    temp.append(pd.pivot_table(telemetry,\n",
    "                               index='datetime',\n",
    "                               columns='machineID',\n",
    "                               values=col).rolling(window=12).mean().resample('12H',\n",
    "                                                                              closed='left',\n",
    "                                                                              label='right').first().unstack())\n",
    "telemetry_mean_12h = pd.concat(temp, axis=1)\n",
    "telemetry_mean_12h.columns = [i + 'mean_12h' for i in fields]\n",
    "telemetry_mean_12h.reset_index(inplace=True)\n",
    "telemetry_mean_12h = telemetry_mean_12h.loc[-telemetry_mean_12h['voltmean_12h'].isnull()]\n",
    "\n",
    "# repeat for standard deviation\n",
    "temp = []\n",
    "fields = ['volt', 'rotate', 'pressure', 'vibration']\n",
    "for col in fields:\n",
    "    temp.append(pd.pivot_table(telemetry,\n",
    "                               index='datetime',\n",
    "                               columns='machineID',\n",
    "                               values=col).rolling(window=12).std().resample('12H',\n",
    "                                                                             closed='left',\n",
    "                                                                             label='right').first().unstack())\n",
    "telemetry_sd_12h = pd.concat(temp, axis=1)\n",
    "telemetry_sd_12h.columns = [i + 'sd_12h' for i in fields]\n",
    "telemetry_sd_12h.reset_index(inplace=True)\n",
    "telemetry_sd_12h = telemetry_sd_12h.loc[-telemetry_sd_12h['voltsd_12h'].isnull()]"
   ]
  },
  {
   "cell_type": "code",
   "execution_count": 23,
   "metadata": {
    "collapsed": true
   },
   "outputs": [],
   "source": [
    "# Calculate mean values for telemetry features\n",
    "temp = []\n",
    "fields = ['volt', 'rotate', 'pressure', 'vibration']\n",
    "for col in fields:\n",
    "    temp.append(pd.pivot_table(telemetry,\n",
    "                               index='datetime',\n",
    "                               columns='machineID',\n",
    "                               values=col).rolling(window=24).mean().resample('12H',\n",
    "                                                                              closed='left',\n",
    "                                                                              label='right').first().unstack())\n",
    "telemetry_mean_24h = pd.concat(temp, axis=1)\n",
    "telemetry_mean_24h.columns = [i + 'mean_24h' for i in fields]\n",
    "telemetry_mean_24h.reset_index(inplace=True)\n",
    "telemetry_mean_24h = telemetry_mean_24h.loc[-telemetry_mean_24h['voltmean_24h'].isnull()]\n",
    "\n",
    "# repeat for standard deviation\n",
    "temp = []\n",
    "fields = ['volt', 'rotate', 'pressure', 'vibration']\n",
    "for col in fields:\n",
    "    temp.append(pd.pivot_table(telemetry,\n",
    "                               index='datetime',\n",
    "                               columns='machineID',\n",
    "                               values=col).rolling(window=24).std().resample('12H',\n",
    "                                                                             closed='left',\n",
    "                                                                             label='right').first().unstack())\n",
    "telemetry_sd_24h = pd.concat(temp, axis=1)\n",
    "telemetry_sd_24h.columns = [i + 'sd_24h' for i in fields]\n",
    "telemetry_sd_24h.reset_index(inplace=True)\n",
    "telemetry_sd_24h = telemetry_sd_24h.loc[-telemetry_sd_24h['voltsd_24h'].isnull()]"
   ]
  },
  {
   "cell_type": "code",
   "execution_count": 24,
   "metadata": {},
   "outputs": [
    {
     "name": "stderr",
     "output_type": "stream",
     "text": [
      "C:\\ProgramData\\Anaconda3\\lib\\site-packages\\ipykernel_launcher.py:2: DeprecationWarning: \n",
      ".ix is deprecated. Please use\n",
      ".loc for label based indexing or\n",
      ".iloc for positional indexing\n",
      "\n",
      "See the documentation here:\n",
      "http://pandas.pydata.org/pandas-docs/stable/indexing.html#ix-indexer-is-deprecated\n",
      "  \n",
      "C:\\ProgramData\\Anaconda3\\lib\\site-packages\\ipykernel_launcher.py:3: DeprecationWarning: \n",
      ".ix is deprecated. Please use\n",
      ".loc for label based indexing or\n",
      ".iloc for positional indexing\n",
      "\n",
      "See the documentation here:\n",
      "http://pandas.pydata.org/pandas-docs/stable/indexing.html#ix-indexer-is-deprecated\n",
      "  This is separate from the ipykernel package so we can avoid doing imports until\n",
      "C:\\ProgramData\\Anaconda3\\lib\\site-packages\\ipykernel_launcher.py:4: DeprecationWarning: \n",
      ".ix is deprecated. Please use\n",
      ".loc for label based indexing or\n",
      ".iloc for positional indexing\n",
      "\n",
      "See the documentation here:\n",
      "http://pandas.pydata.org/pandas-docs/stable/indexing.html#ix-indexer-is-deprecated\n",
      "  after removing the cwd from sys.path.\n"
     ]
    },
    {
     "data": {
      "text/html": [
       "<div>\n",
       "<style>\n",
       "    .dataframe thead tr:only-child th {\n",
       "        text-align: right;\n",
       "    }\n",
       "\n",
       "    .dataframe thead th {\n",
       "        text-align: left;\n",
       "    }\n",
       "\n",
       "    .dataframe tbody tr th {\n",
       "        vertical-align: top;\n",
       "    }\n",
       "</style>\n",
       "<table border=\"1\" class=\"dataframe\">\n",
       "  <thead>\n",
       "    <tr style=\"text-align: right;\">\n",
       "      <th></th>\n",
       "      <th>machineID</th>\n",
       "      <th>voltmean_12h</th>\n",
       "      <th>rotatemean_12h</th>\n",
       "      <th>pressuremean_12h</th>\n",
       "      <th>vibrationmean_12h</th>\n",
       "      <th>voltsd_12h</th>\n",
       "      <th>rotatesd_12h</th>\n",
       "      <th>pressuresd_12h</th>\n",
       "      <th>vibrationsd_12h</th>\n",
       "      <th>voltmean_24h</th>\n",
       "      <th>rotatemean_24h</th>\n",
       "      <th>pressuremean_24h</th>\n",
       "      <th>vibrationmean_24h</th>\n",
       "      <th>voltsd_24h</th>\n",
       "      <th>rotatesd_24h</th>\n",
       "      <th>pressuresd_24h</th>\n",
       "      <th>vibrationsd_24h</th>\n",
       "    </tr>\n",
       "  </thead>\n",
       "  <tbody>\n",
       "    <tr>\n",
       "      <th>count</th>\n",
       "      <td>729000.000000</td>\n",
       "      <td>729000.000000</td>\n",
       "      <td>729000.000000</td>\n",
       "      <td>729000.000000</td>\n",
       "      <td>729000.000000</td>\n",
       "      <td>729000.000000</td>\n",
       "      <td>729000.000000</td>\n",
       "      <td>729000.000000</td>\n",
       "      <td>729000.000000</td>\n",
       "      <td>729000.000000</td>\n",
       "      <td>729000.000000</td>\n",
       "      <td>729000.000000</td>\n",
       "      <td>729000.000000</td>\n",
       "      <td>729000.000000</td>\n",
       "      <td>729000.000000</td>\n",
       "      <td>729000.000000</td>\n",
       "      <td>729000.000000</td>\n",
       "    </tr>\n",
       "    <tr>\n",
       "      <th>mean</th>\n",
       "      <td>500.500000</td>\n",
       "      <td>170.759128</td>\n",
       "      <td>446.609585</td>\n",
       "      <td>100.836497</td>\n",
       "      <td>40.349084</td>\n",
       "      <td>14.707291</td>\n",
       "      <td>49.127996</td>\n",
       "      <td>9.854067</td>\n",
       "      <td>4.915801</td>\n",
       "      <td>170.758742</td>\n",
       "      <td>446.610480</td>\n",
       "      <td>100.836500</td>\n",
       "      <td>40.349053</td>\n",
       "      <td>14.918198</td>\n",
       "      <td>49.890548</td>\n",
       "      <td>10.037140</td>\n",
       "      <td>4.997416</td>\n",
       "    </tr>\n",
       "    <tr>\n",
       "      <th>std</th>\n",
       "      <td>288.675188</td>\n",
       "      <td>5.712698</td>\n",
       "      <td>21.216195</td>\n",
       "      <td>5.232821</td>\n",
       "      <td>2.292131</td>\n",
       "      <td>3.193583</td>\n",
       "      <td>10.710131</td>\n",
       "      <td>2.219156</td>\n",
       "      <td>1.082040</td>\n",
       "      <td>4.699595</td>\n",
       "      <td>18.047447</td>\n",
       "      <td>4.644161</td>\n",
       "      <td>1.984154</td>\n",
       "      <td>2.260502</td>\n",
       "      <td>7.690400</td>\n",
       "      <td>1.707467</td>\n",
       "      <td>0.796001</td>\n",
       "    </tr>\n",
       "    <tr>\n",
       "      <th>min</th>\n",
       "      <td>1.000000</td>\n",
       "      <td>148.918494</td>\n",
       "      <td>240.555739</td>\n",
       "      <td>86.499636</td>\n",
       "      <td>33.282624</td>\n",
       "      <td>3.132666</td>\n",
       "      <td>10.366925</td>\n",
       "      <td>2.231350</td>\n",
       "      <td>1.069356</td>\n",
       "      <td>155.812721</td>\n",
       "      <td>265.786152</td>\n",
       "      <td>89.602349</td>\n",
       "      <td>35.180444</td>\n",
       "      <td>6.210934</td>\n",
       "      <td>19.468158</td>\n",
       "      <td>3.756494</td>\n",
       "      <td>1.899192</td>\n",
       "    </tr>\n",
       "    <tr>\n",
       "      <th>25%</th>\n",
       "      <td>250.750000</td>\n",
       "      <td>167.228630</td>\n",
       "      <td>438.433805</td>\n",
       "      <td>98.141429</td>\n",
       "      <td>39.074348</td>\n",
       "      <td>12.470419</td>\n",
       "      <td>41.643277</td>\n",
       "      <td>8.325662</td>\n",
       "      <td>4.163477</td>\n",
       "      <td>168.061923</td>\n",
       "      <td>441.580787</td>\n",
       "      <td>98.696793</td>\n",
       "      <td>39.349888</td>\n",
       "      <td>13.361240</td>\n",
       "      <td>44.612521</td>\n",
       "      <td>8.915474</td>\n",
       "      <td>4.459913</td>\n",
       "    </tr>\n",
       "    <tr>\n",
       "      <th>50%</th>\n",
       "      <td>500.500000</td>\n",
       "      <td>170.244885</td>\n",
       "      <td>449.054520</td>\n",
       "      <td>100.145988</td>\n",
       "      <td>40.077281</td>\n",
       "      <td>14.575053</td>\n",
       "      <td>48.683220</td>\n",
       "      <td>9.735461</td>\n",
       "      <td>4.865620</td>\n",
       "      <td>170.198761</td>\n",
       "      <td>449.203001</td>\n",
       "      <td>100.122834</td>\n",
       "      <td>40.065254</td>\n",
       "      <td>14.843160</td>\n",
       "      <td>49.561593</td>\n",
       "      <td>9.913607</td>\n",
       "      <td>4.954711</td>\n",
       "    </tr>\n",
       "    <tr>\n",
       "      <th>75%</th>\n",
       "      <td>750.250000</td>\n",
       "      <td>173.387910</td>\n",
       "      <td>459.156515</td>\n",
       "      <td>102.233761</td>\n",
       "      <td>41.123582</td>\n",
       "      <td>16.797384</td>\n",
       "      <td>56.090431</td>\n",
       "      <td>11.234719</td>\n",
       "      <td>5.609491</td>\n",
       "      <td>172.451111</td>\n",
       "      <td>456.385248</td>\n",
       "      <td>101.616973</td>\n",
       "      <td>40.813814</td>\n",
       "      <td>16.393824</td>\n",
       "      <td>54.780142</td>\n",
       "      <td>10.968420</td>\n",
       "      <td>5.479875</td>\n",
       "    </tr>\n",
       "    <tr>\n",
       "      <th>max</th>\n",
       "      <td>1000.000000</td>\n",
       "      <td>225.106859</td>\n",
       "      <td>516.419586</td>\n",
       "      <td>166.739169</td>\n",
       "      <td>63.894733</td>\n",
       "      <td>35.667974</td>\n",
       "      <td>118.183889</td>\n",
       "      <td>30.070135</td>\n",
       "      <td>13.129524</td>\n",
       "      <td>224.651654</td>\n",
       "      <td>498.664658</td>\n",
       "      <td>162.459319</td>\n",
       "      <td>62.664375</td>\n",
       "      <td>29.123530</td>\n",
       "      <td>113.941829</td>\n",
       "      <td>28.643578</td>\n",
       "      <td>12.025817</td>\n",
       "    </tr>\n",
       "  </tbody>\n",
       "</table>\n",
       "</div>"
      ],
      "text/plain": [
       "           machineID   voltmean_12h  rotatemean_12h  pressuremean_12h  \\\n",
       "count  729000.000000  729000.000000   729000.000000     729000.000000   \n",
       "mean      500.500000     170.759128      446.609585        100.836497   \n",
       "std       288.675188       5.712698       21.216195          5.232821   \n",
       "min         1.000000     148.918494      240.555739         86.499636   \n",
       "25%       250.750000     167.228630      438.433805         98.141429   \n",
       "50%       500.500000     170.244885      449.054520        100.145988   \n",
       "75%       750.250000     173.387910      459.156515        102.233761   \n",
       "max      1000.000000     225.106859      516.419586        166.739169   \n",
       "\n",
       "       vibrationmean_12h     voltsd_12h   rotatesd_12h  pressuresd_12h  \\\n",
       "count      729000.000000  729000.000000  729000.000000   729000.000000   \n",
       "mean           40.349084      14.707291      49.127996        9.854067   \n",
       "std             2.292131       3.193583      10.710131        2.219156   \n",
       "min            33.282624       3.132666      10.366925        2.231350   \n",
       "25%            39.074348      12.470419      41.643277        8.325662   \n",
       "50%            40.077281      14.575053      48.683220        9.735461   \n",
       "75%            41.123582      16.797384      56.090431       11.234719   \n",
       "max            63.894733      35.667974     118.183889       30.070135   \n",
       "\n",
       "       vibrationsd_12h   voltmean_24h  rotatemean_24h  pressuremean_24h  \\\n",
       "count    729000.000000  729000.000000   729000.000000     729000.000000   \n",
       "mean          4.915801     170.758742      446.610480        100.836500   \n",
       "std           1.082040       4.699595       18.047447          4.644161   \n",
       "min           1.069356     155.812721      265.786152         89.602349   \n",
       "25%           4.163477     168.061923      441.580787         98.696793   \n",
       "50%           4.865620     170.198761      449.203001        100.122834   \n",
       "75%           5.609491     172.451111      456.385248        101.616973   \n",
       "max          13.129524     224.651654      498.664658        162.459319   \n",
       "\n",
       "       vibrationmean_24h     voltsd_24h   rotatesd_24h  pressuresd_24h  \\\n",
       "count      729000.000000  729000.000000  729000.000000   729000.000000   \n",
       "mean           40.349053      14.918198      49.890548       10.037140   \n",
       "std             1.984154       2.260502       7.690400        1.707467   \n",
       "min            35.180444       6.210934      19.468158        3.756494   \n",
       "25%            39.349888      13.361240      44.612521        8.915474   \n",
       "50%            40.065254      14.843160      49.561593        9.913607   \n",
       "75%            40.813814      16.393824      54.780142       10.968420   \n",
       "max            62.664375      29.123530     113.941829       28.643578   \n",
       "\n",
       "       vibrationsd_24h  \n",
       "count    729000.000000  \n",
       "mean          4.997416  \n",
       "std           0.796001  \n",
       "min           1.899192  \n",
       "25%           4.459913  \n",
       "50%           4.954711  \n",
       "75%           5.479875  \n",
       "max          12.025817  "
      ]
     },
     "execution_count": 24,
     "metadata": {},
     "output_type": "execute_result"
    }
   ],
   "source": [
    "telemetry_feat = pd.concat([telemetry_mean_12h,\n",
    "                            telemetry_sd_12h.ix[:, 2:6],\n",
    "                            telemetry_mean_24h.ix[:, 2:6],\n",
    "                            telemetry_sd_24h.ix[:, 2:6]], axis=1).dropna()\n",
    "telemetry_feat.describe()"
   ]
  },
  {
   "cell_type": "code",
   "execution_count": 25,
   "metadata": {},
   "outputs": [
    {
     "name": "stdout",
     "output_type": "stream",
     "text": [
      "machineID            729000\n",
      "datetime             729000\n",
      "voltmean_12h         729000\n",
      "rotatemean_12h       729000\n",
      "pressuremean_12h     729000\n",
      "vibrationmean_12h    729000\n",
      "voltsd_12h           729000\n",
      "rotatesd_12h         729000\n",
      "pressuresd_12h       729000\n",
      "vibrationsd_12h      729000\n",
      "voltmean_24h         729000\n",
      "rotatemean_24h       729000\n",
      "pressuremean_24h     729000\n",
      "vibrationmean_24h    729000\n",
      "voltsd_24h           729000\n",
      "rotatesd_24h         729000\n",
      "pressuresd_24h       729000\n",
      "vibrationsd_24h      729000\n",
      "dtype: int64\n"
     ]
    }
   ],
   "source": [
    "print(telemetry_feat.count())"
   ]
  },
  {
   "cell_type": "markdown",
   "metadata": {},
   "source": [
    "## Transforming Errors features\n",
    "\n",
    "As error IDs are categorical values, it can't be averaged over time intervals like above. Instead of that, we are counting the number of errors for each time window.  \n",
    "\n",
    "We transform and align the data by tumbling 12 hour window using a join with telemetry data."
   ]
  },
  {
   "cell_type": "code",
   "execution_count": 26,
   "metadata": {},
   "outputs": [
    {
     "data": {
      "text/html": [
       "<div>\n",
       "<style>\n",
       "    .dataframe thead tr:only-child th {\n",
       "        text-align: right;\n",
       "    }\n",
       "\n",
       "    .dataframe thead th {\n",
       "        text-align: left;\n",
       "    }\n",
       "\n",
       "    .dataframe tbody tr th {\n",
       "        vertical-align: top;\n",
       "    }\n",
       "</style>\n",
       "<table border=\"1\" class=\"dataframe\">\n",
       "  <thead>\n",
       "    <tr style=\"text-align: right;\">\n",
       "      <th></th>\n",
       "      <th>machineID</th>\n",
       "      <th>error1</th>\n",
       "      <th>error2</th>\n",
       "      <th>error3</th>\n",
       "      <th>error4</th>\n",
       "      <th>error5</th>\n",
       "    </tr>\n",
       "  </thead>\n",
       "  <tbody>\n",
       "    <tr>\n",
       "      <th>count</th>\n",
       "      <td>8.761000e+06</td>\n",
       "      <td>8.761000e+06</td>\n",
       "      <td>8.761000e+06</td>\n",
       "      <td>8.761000e+06</td>\n",
       "      <td>8.761000e+06</td>\n",
       "      <td>8.761000e+06</td>\n",
       "    </tr>\n",
       "    <tr>\n",
       "      <th>mean</th>\n",
       "      <td>5.005000e+02</td>\n",
       "      <td>3.121790e-04</td>\n",
       "      <td>3.676521e-04</td>\n",
       "      <td>3.506449e-04</td>\n",
       "      <td>1.818286e-04</td>\n",
       "      <td>1.536354e-04</td>\n",
       "    </tr>\n",
       "    <tr>\n",
       "      <th>std</th>\n",
       "      <td>2.886750e+02</td>\n",
       "      <td>1.766583e-02</td>\n",
       "      <td>1.917073e-02</td>\n",
       "      <td>1.872223e-02</td>\n",
       "      <td>1.348316e-02</td>\n",
       "      <td>1.239402e-02</td>\n",
       "    </tr>\n",
       "    <tr>\n",
       "      <th>min</th>\n",
       "      <td>1.000000e+00</td>\n",
       "      <td>0.000000e+00</td>\n",
       "      <td>0.000000e+00</td>\n",
       "      <td>0.000000e+00</td>\n",
       "      <td>0.000000e+00</td>\n",
       "      <td>0.000000e+00</td>\n",
       "    </tr>\n",
       "    <tr>\n",
       "      <th>25%</th>\n",
       "      <td>2.507500e+02</td>\n",
       "      <td>0.000000e+00</td>\n",
       "      <td>0.000000e+00</td>\n",
       "      <td>0.000000e+00</td>\n",
       "      <td>0.000000e+00</td>\n",
       "      <td>0.000000e+00</td>\n",
       "    </tr>\n",
       "    <tr>\n",
       "      <th>50%</th>\n",
       "      <td>5.005000e+02</td>\n",
       "      <td>0.000000e+00</td>\n",
       "      <td>0.000000e+00</td>\n",
       "      <td>0.000000e+00</td>\n",
       "      <td>0.000000e+00</td>\n",
       "      <td>0.000000e+00</td>\n",
       "    </tr>\n",
       "    <tr>\n",
       "      <th>75%</th>\n",
       "      <td>7.502500e+02</td>\n",
       "      <td>0.000000e+00</td>\n",
       "      <td>0.000000e+00</td>\n",
       "      <td>0.000000e+00</td>\n",
       "      <td>0.000000e+00</td>\n",
       "      <td>0.000000e+00</td>\n",
       "    </tr>\n",
       "    <tr>\n",
       "      <th>max</th>\n",
       "      <td>1.000000e+03</td>\n",
       "      <td>1.000000e+00</td>\n",
       "      <td>1.000000e+00</td>\n",
       "      <td>1.000000e+00</td>\n",
       "      <td>1.000000e+00</td>\n",
       "      <td>1.000000e+00</td>\n",
       "    </tr>\n",
       "  </tbody>\n",
       "</table>\n",
       "</div>"
      ],
      "text/plain": [
       "          machineID        error1        error2        error3        error4  \\\n",
       "count  8.761000e+06  8.761000e+06  8.761000e+06  8.761000e+06  8.761000e+06   \n",
       "mean   5.005000e+02  3.121790e-04  3.676521e-04  3.506449e-04  1.818286e-04   \n",
       "std    2.886750e+02  1.766583e-02  1.917073e-02  1.872223e-02  1.348316e-02   \n",
       "min    1.000000e+00  0.000000e+00  0.000000e+00  0.000000e+00  0.000000e+00   \n",
       "25%    2.507500e+02  0.000000e+00  0.000000e+00  0.000000e+00  0.000000e+00   \n",
       "50%    5.005000e+02  0.000000e+00  0.000000e+00  0.000000e+00  0.000000e+00   \n",
       "75%    7.502500e+02  0.000000e+00  0.000000e+00  0.000000e+00  0.000000e+00   \n",
       "max    1.000000e+03  1.000000e+00  1.000000e+00  1.000000e+00  1.000000e+00   \n",
       "\n",
       "             error5  \n",
       "count  8.761000e+06  \n",
       "mean   1.536354e-04  \n",
       "std    1.239402e-02  \n",
       "min    0.000000e+00  \n",
       "25%    0.000000e+00  \n",
       "50%    0.000000e+00  \n",
       "75%    0.000000e+00  \n",
       "max    1.000000e+00  "
      ]
     },
     "execution_count": 26,
     "metadata": {},
     "output_type": "execute_result"
    }
   ],
   "source": [
    "error_ = pd.get_dummies(errors[\"errorID\"])\n",
    "error_count = pd.concat([errors[\"datetime\"], \n",
    "                         errors[\"machineID\"], \n",
    "                         error_], axis=1).dropna()\n",
    "error_count = error_count.groupby(['machineID', 'datetime']).sum().reset_index()\n",
    "\n",
    "error_count = telemetry[['datetime', 'machineID']].merge(error_count, on=['machineID', 'datetime'], how='left').fillna(0.0)\n",
    "error_count.describe()"
   ]
  },
  {
   "cell_type": "code",
   "execution_count": 27,
   "metadata": {},
   "outputs": [
    {
     "ename": "NameError",
     "evalue": "name 'error_feat' is not defined",
     "output_type": "error",
     "traceback": [
      "\u001b[1;31m---------------------------------------------------------------------------\u001b[0m",
      "\u001b[1;31mNameError\u001b[0m                                 Traceback (most recent call last)",
      "\u001b[1;32m<ipython-input-27-61de3c9dab2b>\u001b[0m in \u001b[0;36m<module>\u001b[1;34m()\u001b[0m\n\u001b[0;32m     11\u001b[0m \u001b[0merror_count\u001b[0m\u001b[1;33m.\u001b[0m\u001b[0mcolumns\u001b[0m \u001b[1;33m=\u001b[0m \u001b[1;33m[\u001b[0m\u001b[0mi\u001b[0m \u001b[1;33m+\u001b[0m \u001b[1;34m'count'\u001b[0m \u001b[1;32mfor\u001b[0m \u001b[0mi\u001b[0m \u001b[1;32min\u001b[0m \u001b[0mfields\u001b[0m\u001b[1;33m]\u001b[0m\u001b[1;33m\u001b[0m\u001b[0m\n\u001b[0;32m     12\u001b[0m \u001b[0merror_count\u001b[0m\u001b[1;33m.\u001b[0m\u001b[0mreset_index\u001b[0m\u001b[1;33m(\u001b[0m\u001b[0minplace\u001b[0m\u001b[1;33m=\u001b[0m\u001b[1;32mTrue\u001b[0m\u001b[1;33m)\u001b[0m\u001b[1;33m\u001b[0m\u001b[0m\n\u001b[1;32m---> 13\u001b[1;33m \u001b[0merror_count\u001b[0m \u001b[1;33m=\u001b[0m \u001b[0merror_feat\u001b[0m\u001b[1;33m.\u001b[0m\u001b[0mdropna\u001b[0m\u001b[1;33m(\u001b[0m\u001b[1;33m)\u001b[0m\u001b[1;33m\u001b[0m\u001b[0m\n\u001b[0m\u001b[0;32m     14\u001b[0m \u001b[0merror_count\u001b[0m\u001b[1;33m.\u001b[0m\u001b[0mdescribe\u001b[0m\u001b[1;33m(\u001b[0m\u001b[1;33m)\u001b[0m\u001b[1;33m\u001b[0m\u001b[0m\n",
      "\u001b[1;31mNameError\u001b[0m: name 'error_feat' is not defined"
     ]
    }
   ],
   "source": [
    "temp = []\n",
    "fields = ['error%d' % i for i in range(1,6)]\n",
    "for col in fields:\n",
    "    temp.append(pd.pivot_table(error_count,\n",
    "                               index='datetime',\n",
    "                               columns='machineID',\n",
    "                               values=col).rolling(window=24).sum().resample('12H',\n",
    "                                                                             closed='left',\n",
    "                                                                             label='right').first().unstack())\n",
    "error_count = pd.concat(temp, axis=1)\n",
    "error_count.columns = [i + 'count' for i in fields]\n",
    "error_count.reset_index(inplace=True)\n",
    "error_count = error_feat.dropna()\n",
    "error_count.describe()"
   ]
  },
  {
   "cell_type": "markdown",
   "metadata": {},
   "source": [
    "## Calculating days since last replacement using maintenance dataset  \n",
    "\n",
    "Determining lagging features from the maintenance data isn't a effortless calculation. It requires understanding of various machine domain expertise such as why this component has failed and what parameters can correlate better with it's failure pattern.  \n",
    "\n",
    "It is important to consider the number of replacement components and also calculate the replacement time of each component. This is because of the fact that component's failures is highly related to it's life cycle. In most cases it is true that the longer the component is used, more prone it is to failure. \n",
    "\n",
    "The following code block addresses the problem and calculates the number of replaced components in given time and sorts the data as per recent date of change."
   ]
  },
  {
   "cell_type": "code",
   "execution_count": 215,
   "metadata": {
    "scrolled": false
   },
   "outputs": [
    {
     "data": {
      "text/html": [
       "<div>\n",
       "<style scoped>\n",
       "    .dataframe tbody tr th:only-of-type {\n",
       "        vertical-align: middle;\n",
       "    }\n",
       "\n",
       "    .dataframe tbody tr th {\n",
       "        vertical-align: top;\n",
       "    }\n",
       "\n",
       "    .dataframe thead th {\n",
       "        text-align: right;\n",
       "    }\n",
       "</style>\n",
       "<table border=\"1\" class=\"dataframe\">\n",
       "  <thead>\n",
       "    <tr style=\"text-align: right;\">\n",
       "      <th></th>\n",
       "      <th>machineID</th>\n",
       "      <th>comp1</th>\n",
       "      <th>comp2</th>\n",
       "      <th>comp3</th>\n",
       "      <th>comp4</th>\n",
       "    </tr>\n",
       "  </thead>\n",
       "  <tbody>\n",
       "    <tr>\n",
       "      <th>count</th>\n",
       "      <td>8.761000e+06</td>\n",
       "      <td>8.761000e+06</td>\n",
       "      <td>8.761000e+06</td>\n",
       "      <td>8.761000e+06</td>\n",
       "      <td>8.761000e+06</td>\n",
       "    </tr>\n",
       "    <tr>\n",
       "      <th>mean</th>\n",
       "      <td>5.005000e+02</td>\n",
       "      <td>5.337777e+01</td>\n",
       "      <td>5.294512e+01</td>\n",
       "      <td>5.159591e+01</td>\n",
       "      <td>5.308505e+01</td>\n",
       "    </tr>\n",
       "    <tr>\n",
       "      <th>std</th>\n",
       "      <td>2.886750e+02</td>\n",
       "      <td>5.922694e+01</td>\n",
       "      <td>5.939801e+01</td>\n",
       "      <td>5.733418e+01</td>\n",
       "      <td>5.960321e+01</td>\n",
       "    </tr>\n",
       "    <tr>\n",
       "      <th>min</th>\n",
       "      <td>1.000000e+00</td>\n",
       "      <td>0.000000e+00</td>\n",
       "      <td>0.000000e+00</td>\n",
       "      <td>0.000000e+00</td>\n",
       "      <td>0.000000e+00</td>\n",
       "    </tr>\n",
       "    <tr>\n",
       "      <th>25%</th>\n",
       "      <td>2.507500e+02</td>\n",
       "      <td>1.308333e+01</td>\n",
       "      <td>1.295833e+01</td>\n",
       "      <td>1.266667e+01</td>\n",
       "      <td>1.295833e+01</td>\n",
       "    </tr>\n",
       "    <tr>\n",
       "      <th>50%</th>\n",
       "      <td>5.005000e+02</td>\n",
       "      <td>3.220833e+01</td>\n",
       "      <td>3.175000e+01</td>\n",
       "      <td>3.091667e+01</td>\n",
       "      <td>3.179167e+01</td>\n",
       "    </tr>\n",
       "    <tr>\n",
       "      <th>75%</th>\n",
       "      <td>7.502500e+02</td>\n",
       "      <td>6.966667e+01</td>\n",
       "      <td>6.862500e+01</td>\n",
       "      <td>6.758333e+01</td>\n",
       "      <td>6.862500e+01</td>\n",
       "    </tr>\n",
       "    <tr>\n",
       "      <th>max</th>\n",
       "      <td>1.000000e+03</td>\n",
       "      <td>4.389583e+02</td>\n",
       "      <td>4.339583e+02</td>\n",
       "      <td>3.989583e+02</td>\n",
       "      <td>4.529583e+02</td>\n",
       "    </tr>\n",
       "  </tbody>\n",
       "</table>\n",
       "</div>"
      ],
      "text/plain": [
       "          machineID         comp1         comp2         comp3         comp4\n",
       "count  8.761000e+06  8.761000e+06  8.761000e+06  8.761000e+06  8.761000e+06\n",
       "mean   5.005000e+02  5.337777e+01  5.294512e+01  5.159591e+01  5.308505e+01\n",
       "std    2.886750e+02  5.922694e+01  5.939801e+01  5.733418e+01  5.960321e+01\n",
       "min    1.000000e+00  0.000000e+00  0.000000e+00  0.000000e+00  0.000000e+00\n",
       "25%    2.507500e+02  1.308333e+01  1.295833e+01  1.266667e+01  1.295833e+01\n",
       "50%    5.005000e+02  3.220833e+01  3.175000e+01  3.091667e+01  3.179167e+01\n",
       "75%    7.502500e+02  6.966667e+01  6.862500e+01  6.758333e+01  6.862500e+01\n",
       "max    1.000000e+03  4.389583e+02  4.339583e+02  3.989583e+02  4.529583e+02"
      ]
     },
     "execution_count": 215,
     "metadata": {},
     "output_type": "execute_result"
    }
   ],
   "source": [
    "# create a column for each error type\n",
    "comp_ = pd.get_dummies(maint[\"comp\"])\n",
    "comp_rep = pd.concat([maint[\"machineID\"], \n",
    "                         maint[\"datetime\"], \n",
    "                         comp_ ], axis=1).dropna()\n",
    "\n",
    "# combine repairs for a given machine in a given hour\n",
    "comp_rep = comp_rep.groupby(['machineID', 'datetime']).sum().reset_index()\n",
    "\n",
    "# add timepoints where no components were replaced\n",
    "comp_rep = telemetry[['datetime', 'machineID']].merge(comp_rep,\n",
    "                                                      on=['datetime', 'machineID'],\n",
    "                                                      how='outer').fillna(0).sort_values(by=['machineID', 'datetime'])\n",
    "components = ['comp1', 'comp2', 'comp3', 'comp4']\n",
    "for comp in components:\n",
    "    # convert indicator to most recent date of component change\n",
    "    comp_rep.loc[comp_rep[comp] < 1, comp] = None\n",
    "    comp_rep.loc[-comp_rep[comp].isnull(), comp] = comp_rep.loc[-comp_rep[comp].isnull(), 'datetime']\n",
    "    \n",
    "    # forward-fill the most-recent date of component change\n",
    "    comp_rep[comp] = comp_rep[comp].fillna(method='ffill')\n",
    "    \n",
    "# remove dates in 2014 (may have NaN or future component change dates)    \n",
    "comp_rep = comp_rep.loc[comp_rep['datetime'] > pd.to_datetime('2015-01-01')]\n",
    "\n",
    "for comp in components:\n",
    "    comp_rep[comp] = (comp_rep['datetime'] - pd.to_datetime(comp_rep[comp])).apply(lambda x: x / pd.Timedelta(days=1))\n",
    "    \n",
    "comp_rep.describe()\n"
   ]
  },
  {
   "cell_type": "markdown",
   "metadata": {},
   "source": [
    "## A little change in machine features dataset\n",
    "\n",
    "Machine dataset includes specification of each machine with it's age. These can be used without modification as it includes despcriptive information. But as model's description is of string type we are creating a sets of boolean and dummy variables to specify the model type. "
   ]
  },
  {
   "cell_type": "code",
   "execution_count": 711,
   "metadata": {
    "collapsed": true
   },
   "outputs": [],
   "source": [
    "mod = pd.get_dummies(machines['model'])\n",
    "machines['model'] = tuple(zip(mod.model1,mod.model2,mod.model3,mod.model4))"
   ]
  },
  {
   "cell_type": "markdown",
   "metadata": {},
   "source": [
    "## Merging features datasets\n",
    "\n",
    "Now, we merge the maintenance, error, machine and telemetry datasets into a integrated feature dataset. we can merge the data with simple join as most of the data is aligned with 12 hour observation period. "
   ]
  },
  {
   "cell_type": "code",
   "execution_count": 712,
   "metadata": {},
   "outputs": [
    {
     "data": {
      "text/html": [
       "<div>\n",
       "<style scoped>\n",
       "    .dataframe tbody tr th:only-of-type {\n",
       "        vertical-align: middle;\n",
       "    }\n",
       "\n",
       "    .dataframe tbody tr th {\n",
       "        vertical-align: top;\n",
       "    }\n",
       "\n",
       "    .dataframe thead th {\n",
       "        text-align: right;\n",
       "    }\n",
       "</style>\n",
       "<table border=\"1\" class=\"dataframe\">\n",
       "  <thead>\n",
       "    <tr style=\"text-align: right;\">\n",
       "      <th></th>\n",
       "      <th>machineID</th>\n",
       "      <th>voltmean_12h</th>\n",
       "      <th>rotatemean_12h</th>\n",
       "      <th>pressuremean_12h</th>\n",
       "      <th>vibrationmean_12h</th>\n",
       "      <th>voltsd_12h</th>\n",
       "      <th>rotatesd_12h</th>\n",
       "      <th>pressuresd_12h</th>\n",
       "      <th>vibrationsd_12h</th>\n",
       "      <th>voltmean_24h</th>\n",
       "      <th>...</th>\n",
       "      <th>error1count</th>\n",
       "      <th>error2count</th>\n",
       "      <th>error3count</th>\n",
       "      <th>error4count</th>\n",
       "      <th>error5count</th>\n",
       "      <th>comp1</th>\n",
       "      <th>comp2</th>\n",
       "      <th>comp3</th>\n",
       "      <th>comp4</th>\n",
       "      <th>age</th>\n",
       "    </tr>\n",
       "  </thead>\n",
       "  <tbody>\n",
       "    <tr>\n",
       "      <th>count</th>\n",
       "      <td>729000.000000</td>\n",
       "      <td>729000.000000</td>\n",
       "      <td>729000.000000</td>\n",
       "      <td>729000.000000</td>\n",
       "      <td>729000.000000</td>\n",
       "      <td>729000.000000</td>\n",
       "      <td>729000.000000</td>\n",
       "      <td>729000.000000</td>\n",
       "      <td>729000.000000</td>\n",
       "      <td>729000.000000</td>\n",
       "      <td>...</td>\n",
       "      <td>729000.000000</td>\n",
       "      <td>729000.000000</td>\n",
       "      <td>729000.000000</td>\n",
       "      <td>729000.000000</td>\n",
       "      <td>729000.000000</td>\n",
       "      <td>728000.000000</td>\n",
       "      <td>728000.000000</td>\n",
       "      <td>728000.000000</td>\n",
       "      <td>728000.000000</td>\n",
       "      <td>729000.000000</td>\n",
       "    </tr>\n",
       "    <tr>\n",
       "      <th>mean</th>\n",
       "      <td>500.500000</td>\n",
       "      <td>170.759128</td>\n",
       "      <td>446.609585</td>\n",
       "      <td>100.836497</td>\n",
       "      <td>40.349084</td>\n",
       "      <td>14.707291</td>\n",
       "      <td>49.127996</td>\n",
       "      <td>9.854067</td>\n",
       "      <td>4.915801</td>\n",
       "      <td>170.758742</td>\n",
       "      <td>...</td>\n",
       "      <td>0.007494</td>\n",
       "      <td>0.008826</td>\n",
       "      <td>0.008421</td>\n",
       "      <td>0.004364</td>\n",
       "      <td>0.003690</td>\n",
       "      <td>53.257865</td>\n",
       "      <td>52.820198</td>\n",
       "      <td>51.466714</td>\n",
       "      <td>52.957393</td>\n",
       "      <td>9.862000</td>\n",
       "    </tr>\n",
       "    <tr>\n",
       "      <th>std</th>\n",
       "      <td>288.675188</td>\n",
       "      <td>5.712698</td>\n",
       "      <td>21.216195</td>\n",
       "      <td>5.232821</td>\n",
       "      <td>2.292131</td>\n",
       "      <td>3.193583</td>\n",
       "      <td>10.710131</td>\n",
       "      <td>2.219156</td>\n",
       "      <td>1.082040</td>\n",
       "      <td>4.699595</td>\n",
       "      <td>...</td>\n",
       "      <td>0.086480</td>\n",
       "      <td>0.093721</td>\n",
       "      <td>0.091545</td>\n",
       "      <td>0.066017</td>\n",
       "      <td>0.060633</td>\n",
       "      <td>59.152141</td>\n",
       "      <td>59.317405</td>\n",
       "      <td>57.241221</td>\n",
       "      <td>59.517514</td>\n",
       "      <td>6.089746</td>\n",
       "    </tr>\n",
       "    <tr>\n",
       "      <th>min</th>\n",
       "      <td>1.000000</td>\n",
       "      <td>148.918494</td>\n",
       "      <td>240.555739</td>\n",
       "      <td>86.499636</td>\n",
       "      <td>33.282624</td>\n",
       "      <td>3.132666</td>\n",
       "      <td>10.366925</td>\n",
       "      <td>2.231350</td>\n",
       "      <td>1.069356</td>\n",
       "      <td>155.812721</td>\n",
       "      <td>...</td>\n",
       "      <td>0.000000</td>\n",
       "      <td>0.000000</td>\n",
       "      <td>0.000000</td>\n",
       "      <td>0.000000</td>\n",
       "      <td>0.000000</td>\n",
       "      <td>0.250000</td>\n",
       "      <td>0.250000</td>\n",
       "      <td>0.250000</td>\n",
       "      <td>0.250000</td>\n",
       "      <td>0.000000</td>\n",
       "    </tr>\n",
       "    <tr>\n",
       "      <th>25%</th>\n",
       "      <td>250.750000</td>\n",
       "      <td>167.228630</td>\n",
       "      <td>438.433805</td>\n",
       "      <td>98.141429</td>\n",
       "      <td>39.074348</td>\n",
       "      <td>12.470419</td>\n",
       "      <td>41.643277</td>\n",
       "      <td>8.325662</td>\n",
       "      <td>4.163477</td>\n",
       "      <td>168.061923</td>\n",
       "      <td>...</td>\n",
       "      <td>0.000000</td>\n",
       "      <td>0.000000</td>\n",
       "      <td>0.000000</td>\n",
       "      <td>0.000000</td>\n",
       "      <td>0.000000</td>\n",
       "      <td>13.250000</td>\n",
       "      <td>12.750000</td>\n",
       "      <td>12.750000</td>\n",
       "      <td>12.750000</td>\n",
       "      <td>5.000000</td>\n",
       "    </tr>\n",
       "    <tr>\n",
       "      <th>50%</th>\n",
       "      <td>500.500000</td>\n",
       "      <td>170.244885</td>\n",
       "      <td>449.054520</td>\n",
       "      <td>100.145988</td>\n",
       "      <td>40.077281</td>\n",
       "      <td>14.575053</td>\n",
       "      <td>48.683220</td>\n",
       "      <td>9.735461</td>\n",
       "      <td>4.865620</td>\n",
       "      <td>170.198761</td>\n",
       "      <td>...</td>\n",
       "      <td>0.000000</td>\n",
       "      <td>0.000000</td>\n",
       "      <td>0.000000</td>\n",
       "      <td>0.000000</td>\n",
       "      <td>0.000000</td>\n",
       "      <td>32.250000</td>\n",
       "      <td>31.750000</td>\n",
       "      <td>30.750000</td>\n",
       "      <td>31.750000</td>\n",
       "      <td>10.000000</td>\n",
       "    </tr>\n",
       "    <tr>\n",
       "      <th>75%</th>\n",
       "      <td>750.250000</td>\n",
       "      <td>173.387910</td>\n",
       "      <td>459.156515</td>\n",
       "      <td>102.233761</td>\n",
       "      <td>41.123582</td>\n",
       "      <td>16.797384</td>\n",
       "      <td>56.090431</td>\n",
       "      <td>11.234719</td>\n",
       "      <td>5.609491</td>\n",
       "      <td>172.451111</td>\n",
       "      <td>...</td>\n",
       "      <td>0.000000</td>\n",
       "      <td>0.000000</td>\n",
       "      <td>0.000000</td>\n",
       "      <td>0.000000</td>\n",
       "      <td>0.000000</td>\n",
       "      <td>69.250000</td>\n",
       "      <td>68.250000</td>\n",
       "      <td>67.250000</td>\n",
       "      <td>68.250000</td>\n",
       "      <td>15.000000</td>\n",
       "    </tr>\n",
       "    <tr>\n",
       "      <th>max</th>\n",
       "      <td>1000.000000</td>\n",
       "      <td>225.106859</td>\n",
       "      <td>516.419586</td>\n",
       "      <td>166.739169</td>\n",
       "      <td>63.894733</td>\n",
       "      <td>35.667974</td>\n",
       "      <td>118.183889</td>\n",
       "      <td>30.070135</td>\n",
       "      <td>13.129524</td>\n",
       "      <td>224.651654</td>\n",
       "      <td>...</td>\n",
       "      <td>2.000000</td>\n",
       "      <td>2.000000</td>\n",
       "      <td>2.000000</td>\n",
       "      <td>2.000000</td>\n",
       "      <td>1.000000</td>\n",
       "      <td>438.750000</td>\n",
       "      <td>433.750000</td>\n",
       "      <td>398.750000</td>\n",
       "      <td>452.750000</td>\n",
       "      <td>20.000000</td>\n",
       "    </tr>\n",
       "  </tbody>\n",
       "</table>\n",
       "<p>8 rows × 27 columns</p>\n",
       "</div>"
      ],
      "text/plain": [
       "           machineID   voltmean_12h  rotatemean_12h  pressuremean_12h  \\\n",
       "count  729000.000000  729000.000000   729000.000000     729000.000000   \n",
       "mean      500.500000     170.759128      446.609585        100.836497   \n",
       "std       288.675188       5.712698       21.216195          5.232821   \n",
       "min         1.000000     148.918494      240.555739         86.499636   \n",
       "25%       250.750000     167.228630      438.433805         98.141429   \n",
       "50%       500.500000     170.244885      449.054520        100.145988   \n",
       "75%       750.250000     173.387910      459.156515        102.233761   \n",
       "max      1000.000000     225.106859      516.419586        166.739169   \n",
       "\n",
       "       vibrationmean_12h     voltsd_12h   rotatesd_12h  pressuresd_12h  \\\n",
       "count      729000.000000  729000.000000  729000.000000   729000.000000   \n",
       "mean           40.349084      14.707291      49.127996        9.854067   \n",
       "std             2.292131       3.193583      10.710131        2.219156   \n",
       "min            33.282624       3.132666      10.366925        2.231350   \n",
       "25%            39.074348      12.470419      41.643277        8.325662   \n",
       "50%            40.077281      14.575053      48.683220        9.735461   \n",
       "75%            41.123582      16.797384      56.090431       11.234719   \n",
       "max            63.894733      35.667974     118.183889       30.070135   \n",
       "\n",
       "       vibrationsd_12h   voltmean_24h      ...          error1count  \\\n",
       "count    729000.000000  729000.000000      ...        729000.000000   \n",
       "mean          4.915801     170.758742      ...             0.007494   \n",
       "std           1.082040       4.699595      ...             0.086480   \n",
       "min           1.069356     155.812721      ...             0.000000   \n",
       "25%           4.163477     168.061923      ...             0.000000   \n",
       "50%           4.865620     170.198761      ...             0.000000   \n",
       "75%           5.609491     172.451111      ...             0.000000   \n",
       "max          13.129524     224.651654      ...             2.000000   \n",
       "\n",
       "         error2count    error3count    error4count    error5count  \\\n",
       "count  729000.000000  729000.000000  729000.000000  729000.000000   \n",
       "mean        0.008826       0.008421       0.004364       0.003690   \n",
       "std         0.093721       0.091545       0.066017       0.060633   \n",
       "min         0.000000       0.000000       0.000000       0.000000   \n",
       "25%         0.000000       0.000000       0.000000       0.000000   \n",
       "50%         0.000000       0.000000       0.000000       0.000000   \n",
       "75%         0.000000       0.000000       0.000000       0.000000   \n",
       "max         2.000000       2.000000       2.000000       1.000000   \n",
       "\n",
       "               comp1          comp2          comp3          comp4  \\\n",
       "count  728000.000000  728000.000000  728000.000000  728000.000000   \n",
       "mean       53.257865      52.820198      51.466714      52.957393   \n",
       "std        59.152141      59.317405      57.241221      59.517514   \n",
       "min         0.250000       0.250000       0.250000       0.250000   \n",
       "25%        13.250000      12.750000      12.750000      12.750000   \n",
       "50%        32.250000      31.750000      30.750000      31.750000   \n",
       "75%        69.250000      68.250000      67.250000      68.250000   \n",
       "max       438.750000     433.750000     398.750000     452.750000   \n",
       "\n",
       "                 age  \n",
       "count  729000.000000  \n",
       "mean        9.862000  \n",
       "std         6.089746  \n",
       "min         0.000000  \n",
       "25%         5.000000  \n",
       "50%        10.000000  \n",
       "75%        15.000000  \n",
       "max        20.000000  \n",
       "\n",
       "[8 rows x 27 columns]"
      ]
     },
     "execution_count": 712,
     "metadata": {},
     "output_type": "execute_result"
    }
   ],
   "source": [
    "final_feat = telemetry_feat.merge(error_count, on=['datetime', 'machineID'], how='left')\n",
    "final_feat = final_feat.merge(comp_rep, on=['datetime', 'machineID'], how='left')\n",
    "final_feat = final_feat.merge(machines, on=['machineID'], how='left')\n",
    "\n",
    "final_feat.describe()"
   ]
  },
  {
   "cell_type": "markdown",
   "metadata": {},
   "source": [
    "# Label construction:\n",
    "\n",
    "In a typical classification problem we just define a boolean labels which can be either true vs false or win vs lose etc. To train the model, the model requires data from both the classes. In our case, to predict failures the model reuires the time series data which leads upto the failures of machines as well as the exaples of healthy operational periods of the machine. In our example, the classification will be between operational condition of machine which is healthy vs failed.\n",
    "\n",
    "Once we complete the classification between healthy vs failure, we need to do some additional calculation. We will only be able to gain advantage of our machine learning algorithm when we can give a notication for the upcoming problem in a machine to prevent the breakdown of a machine. In order to build a model for that we make modification in the label construction. We change label definition of _failure event_ to a longer window which indicates _failure duration _. Again, the duration of this warning window is highly dependent on the business application. For example, In order to prevent runway boiler accidents (which occurs when heating unit reaches an exceedingly high temperature and pressure and doesn't shut off after that) the warning window should be kept longer. In such cases, time is a critical factor here which can help us save many lives. It is upto the company to decide whether information about failures will occur in next 24 to 48 hours is enough time to prevent it from happening.  \n",
    "\n",
    "To reconstruct the failure to about to fail we label all observations within failure warning window as failed. Now we are estimating the probability of failure within this window.\n",
    "\n",
    "Now we are interested in estimating the probability of failure of a machine in next seven days due to certain component failure named component 1,2,3 or 4. \n",
    "\n",
    "A categorical feature is created to define as label of failure. For example, All the records which are within 24 hour window before a failure of component 3 are labelled as failure = \"comp3\", and so on for components 1,2,4. Also the records which are not within seven days of a component failure are labelled as failure = \"none\"\n",
    "\n",
    "The following code aligns the failure data to 12 hour observations."
   ]
  },
  {
   "cell_type": "code",
   "execution_count": 713,
   "metadata": {},
   "outputs": [
    {
     "data": {
      "text/html": [
       "<div>\n",
       "<style scoped>\n",
       "    .dataframe tbody tr th:only-of-type {\n",
       "        vertical-align: middle;\n",
       "    }\n",
       "\n",
       "    .dataframe tbody tr th {\n",
       "        vertical-align: top;\n",
       "    }\n",
       "\n",
       "    .dataframe thead th {\n",
       "        text-align: right;\n",
       "    }\n",
       "</style>\n",
       "<table border=\"1\" class=\"dataframe\">\n",
       "  <thead>\n",
       "    <tr style=\"text-align: right;\">\n",
       "      <th></th>\n",
       "      <th>machineID</th>\n",
       "      <th>datetime</th>\n",
       "      <th>voltmean_12h</th>\n",
       "      <th>rotatemean_12h</th>\n",
       "      <th>pressuremean_12h</th>\n",
       "      <th>vibrationmean_12h</th>\n",
       "      <th>voltsd_12h</th>\n",
       "      <th>rotatesd_12h</th>\n",
       "      <th>pressuresd_12h</th>\n",
       "      <th>vibrationsd_12h</th>\n",
       "      <th>...</th>\n",
       "      <th>error3count</th>\n",
       "      <th>error4count</th>\n",
       "      <th>error5count</th>\n",
       "      <th>comp1</th>\n",
       "      <th>comp2</th>\n",
       "      <th>comp3</th>\n",
       "      <th>comp4</th>\n",
       "      <th>model</th>\n",
       "      <th>age</th>\n",
       "      <th>failure</th>\n",
       "    </tr>\n",
       "  </thead>\n",
       "  <tbody>\n",
       "    <tr>\n",
       "      <th>0</th>\n",
       "      <td>1</td>\n",
       "      <td>2015-01-02 12:00:00</td>\n",
       "      <td>167.377318</td>\n",
       "      <td>452.034833</td>\n",
       "      <td>99.964799</td>\n",
       "      <td>44.363301</td>\n",
       "      <td>15.565892</td>\n",
       "      <td>51.456182</td>\n",
       "      <td>7.133463</td>\n",
       "      <td>3.075716</td>\n",
       "      <td>...</td>\n",
       "      <td>0.0</td>\n",
       "      <td>0.0</td>\n",
       "      <td>0.0</td>\n",
       "      <td>110.25</td>\n",
       "      <td>110.25</td>\n",
       "      <td>50.25</td>\n",
       "      <td>185.25</td>\n",
       "      <td>(0, 1, 0, 0)</td>\n",
       "      <td>18</td>\n",
       "      <td>none</td>\n",
       "    </tr>\n",
       "    <tr>\n",
       "      <th>1</th>\n",
       "      <td>1</td>\n",
       "      <td>2015-01-03 00:00:00</td>\n",
       "      <td>167.502723</td>\n",
       "      <td>439.043536</td>\n",
       "      <td>103.082577</td>\n",
       "      <td>39.768041</td>\n",
       "      <td>12.445835</td>\n",
       "      <td>26.860609</td>\n",
       "      <td>9.973548</td>\n",
       "      <td>3.290649</td>\n",
       "      <td>...</td>\n",
       "      <td>0.0</td>\n",
       "      <td>0.0</td>\n",
       "      <td>0.0</td>\n",
       "      <td>110.75</td>\n",
       "      <td>110.75</td>\n",
       "      <td>50.75</td>\n",
       "      <td>185.75</td>\n",
       "      <td>(0, 1, 0, 0)</td>\n",
       "      <td>18</td>\n",
       "      <td>none</td>\n",
       "    </tr>\n",
       "    <tr>\n",
       "      <th>2</th>\n",
       "      <td>1</td>\n",
       "      <td>2015-01-03 12:00:00</td>\n",
       "      <td>162.852984</td>\n",
       "      <td>454.954241</td>\n",
       "      <td>99.840514</td>\n",
       "      <td>38.193216</td>\n",
       "      <td>12.448401</td>\n",
       "      <td>49.565265</td>\n",
       "      <td>10.624707</td>\n",
       "      <td>6.560103</td>\n",
       "      <td>...</td>\n",
       "      <td>0.0</td>\n",
       "      <td>0.0</td>\n",
       "      <td>0.0</td>\n",
       "      <td>111.25</td>\n",
       "      <td>111.25</td>\n",
       "      <td>51.25</td>\n",
       "      <td>186.25</td>\n",
       "      <td>(0, 1, 0, 0)</td>\n",
       "      <td>18</td>\n",
       "      <td>none</td>\n",
       "    </tr>\n",
       "    <tr>\n",
       "      <th>3</th>\n",
       "      <td>1</td>\n",
       "      <td>2015-01-04 00:00:00</td>\n",
       "      <td>175.831151</td>\n",
       "      <td>439.725525</td>\n",
       "      <td>102.623669</td>\n",
       "      <td>40.852524</td>\n",
       "      <td>16.095546</td>\n",
       "      <td>29.331879</td>\n",
       "      <td>11.818502</td>\n",
       "      <td>6.141972</td>\n",
       "      <td>...</td>\n",
       "      <td>0.0</td>\n",
       "      <td>0.0</td>\n",
       "      <td>0.0</td>\n",
       "      <td>111.75</td>\n",
       "      <td>111.75</td>\n",
       "      <td>51.75</td>\n",
       "      <td>186.75</td>\n",
       "      <td>(0, 1, 0, 0)</td>\n",
       "      <td>18</td>\n",
       "      <td>none</td>\n",
       "    </tr>\n",
       "    <tr>\n",
       "      <th>4</th>\n",
       "      <td>1</td>\n",
       "      <td>2015-01-04 12:00:00</td>\n",
       "      <td>167.286938</td>\n",
       "      <td>464.254230</td>\n",
       "      <td>96.945432</td>\n",
       "      <td>44.278333</td>\n",
       "      <td>11.453878</td>\n",
       "      <td>31.113321</td>\n",
       "      <td>10.282070</td>\n",
       "      <td>3.329338</td>\n",
       "      <td>...</td>\n",
       "      <td>0.0</td>\n",
       "      <td>0.0</td>\n",
       "      <td>0.0</td>\n",
       "      <td>112.25</td>\n",
       "      <td>112.25</td>\n",
       "      <td>52.25</td>\n",
       "      <td>187.25</td>\n",
       "      <td>(0, 1, 0, 0)</td>\n",
       "      <td>18</td>\n",
       "      <td>none</td>\n",
       "    </tr>\n",
       "  </tbody>\n",
       "</table>\n",
       "<p>5 rows × 30 columns</p>\n",
       "</div>"
      ],
      "text/plain": [
       "   machineID            datetime  voltmean_12h  rotatemean_12h  \\\n",
       "0          1 2015-01-02 12:00:00    167.377318      452.034833   \n",
       "1          1 2015-01-03 00:00:00    167.502723      439.043536   \n",
       "2          1 2015-01-03 12:00:00    162.852984      454.954241   \n",
       "3          1 2015-01-04 00:00:00    175.831151      439.725525   \n",
       "4          1 2015-01-04 12:00:00    167.286938      464.254230   \n",
       "\n",
       "   pressuremean_12h  vibrationmean_12h  voltsd_12h  rotatesd_12h  \\\n",
       "0         99.964799          44.363301   15.565892     51.456182   \n",
       "1        103.082577          39.768041   12.445835     26.860609   \n",
       "2         99.840514          38.193216   12.448401     49.565265   \n",
       "3        102.623669          40.852524   16.095546     29.331879   \n",
       "4         96.945432          44.278333   11.453878     31.113321   \n",
       "\n",
       "   pressuresd_12h  vibrationsd_12h   ...     error3count  error4count  \\\n",
       "0        7.133463         3.075716   ...             0.0          0.0   \n",
       "1        9.973548         3.290649   ...             0.0          0.0   \n",
       "2       10.624707         6.560103   ...             0.0          0.0   \n",
       "3       11.818502         6.141972   ...             0.0          0.0   \n",
       "4       10.282070         3.329338   ...             0.0          0.0   \n",
       "\n",
       "   error5count   comp1   comp2  comp3   comp4         model  age  failure  \n",
       "0          0.0  110.25  110.25  50.25  185.25  (0, 1, 0, 0)   18     none  \n",
       "1          0.0  110.75  110.75  50.75  185.75  (0, 1, 0, 0)   18     none  \n",
       "2          0.0  111.25  111.25  51.25  186.25  (0, 1, 0, 0)   18     none  \n",
       "3          0.0  111.75  111.75  51.75  186.75  (0, 1, 0, 0)   18     none  \n",
       "4          0.0  112.25  112.25  52.25  187.25  (0, 1, 0, 0)   18     none  \n",
       "\n",
       "[5 rows x 30 columns]"
      ]
     },
     "execution_count": 713,
     "metadata": {},
     "output_type": "execute_result"
    }
   ],
   "source": [
    "failures['datetime'] = failures['datetime'].apply(lambda x: x.replace(hour=12))\n",
    "\n",
    "labeled_features = final_feat.merge(failures, on=['datetime', 'machineID'], how='left')\n",
    "labeled_features = labeled_features.fillna(method='bfill', limit=7) # fill backward up to 24h\n",
    "labeled_features['failure'] = labeled_features['failure'].fillna('none')\n",
    "labeled_features = labeled_features.fillna(0.0)\n",
    "labeled_features.head()\n",
    "\n"
   ]
  },
  {
   "cell_type": "code",
   "execution_count": 509,
   "metadata": {},
   "outputs": [
    {
     "data": {
      "text/plain": [
       "none     678103\n",
       "comp2     19845\n",
       "comp1     15068\n",
       "comp4      8955\n",
       "comp3      7389\n",
       "Name: failure, dtype: int64"
      ]
     },
     "execution_count": 509,
     "metadata": {},
     "output_type": "execute_result"
    }
   ],
   "source": [
    "# To get the frequency of each component failure \n",
    "labeled_features['failure'].value_counts()"
   ]
  },
  {
   "cell_type": "markdown",
   "metadata": {},
   "source": [
    "In the above mentioned code we are counting failure classes in the feature data after assigning the component failure records which helps us in validating the results."
   ]
  },
  {
   "cell_type": "markdown",
   "metadata": {},
   "source": [
    "# Step 3: Model Building"
   ]
  },
  {
   "cell_type": "markdown",
   "metadata": {},
   "source": [
    "# Prepare the Training/Testing data"
   ]
  },
  {
   "cell_type": "markdown",
   "metadata": {},
   "source": [
    "A general method in machine learning is to train your model with different model parameters and test it on the data which has not been used in training of the model. This kind of evaluation method requires partitioning the data into different sets. Typically, 70% of the data is used for training and 30% is used for testing.\n",
    "\n",
    "Generally random splitting is used, but here if we use that approach we will not be able to consider the correlation between these time series observations. For predictive maintenance domain, a time-dependent split is more useful for predicting underlying patterns.For this type of analysis, a single point in time is chosen and then the model is trained on examples upto that point in time and tested on the examples after that point. In orer to account for the failure pattern, we haven't labelled feature records within the split point since it can be categorised as unobserved data.\n",
    "\n",
    "In the following code blocks, we splitted data at a single point after 9 months of operation in the year 2015."
   ]
  },
  {
   "cell_type": "markdown",
   "metadata": {},
   "source": [
    "### Editing Table\n",
    "1. We do not want any null values in our table, so we check if there are any.\n",
    "2. Then we plot the correlation between our external factors. Red means high correlation while blue means low correlation. We want low correlation because if we have multiple columns with high correlation, it's repetitive in the machine learning model. "
   ]
  },
  {
   "cell_type": "markdown",
   "metadata": {},
   "source": [
    "### Checking for null values"
   ]
  },
  {
   "cell_type": "code",
   "execution_count": 510,
   "metadata": {},
   "outputs": [
    {
     "data": {
      "text/plain": [
       "False"
      ]
     },
     "execution_count": 510,
     "metadata": {},
     "output_type": "execute_result"
    }
   ],
   "source": [
    "labeled_features.isnull().values.any() "
   ]
  },
  {
   "cell_type": "markdown",
   "metadata": {},
   "source": [
    "### Splitting the data"
   ]
  },
  {
   "cell_type": "code",
   "execution_count": 716,
   "metadata": {
    "collapsed": true
   },
   "outputs": [],
   "source": [
    "train_y = labeled_features.loc[labeled_features['datetime'] <= pd.to_datetime('2015-09-30 12:00:00'), 'failure']\n",
    "train_x = labeled_features.loc[labeled_features['datetime'] <= pd.to_datetime('2015-09-30 12:00:00')].drop(['datetime',\n",
    "                                                                                                        'machineID',\n",
    "                                                                                                            'model',\n",
    "                                                                                                        'failure'], 1)\n",
    "test_y = labeled_features.loc[labeled_features['datetime'] >= pd.to_datetime('2015-10-01 00:00:00'), 'failure']\n",
    "test_x = labeled_features.loc[labeled_features['datetime'] >= pd.to_datetime('2015-10-01 00:00:00')].drop(['datetime',\n",
    "                                                                                                       'machineID',\n",
    "                                                                                                             'model',\n",
    "                                                                                                       'failure'], 1)"
   ]
  },
  {
   "cell_type": "markdown",
   "metadata": {},
   "source": [
    "# Classification models\n",
    "\n",
    "An important thing to consider while classification is the uneven distribution of data for different classes. In our example, the machine failures are usually a rare occrences compared to instances where machine is categorized in healthy condition. \n",
    "This type of pattern is actually helpful for businesses but it can cause imbalance in label distribution. This leads to poor prediction as algorithm tends to classify majority class examples at the expense of minority class. Total misclassification error will be much less because majority of class is labeled correctly which leads to lower precision rate with high accuracy.\n",
    "This type of misclassification can create problems where cost of false alarm is very large. To overcome this problem, sampling techniques such as oversampling of minority examples can be helpful to consider. These methods are not covered in this project because of correlation of data with time. Instead of that we are calculating evaluation metrics for determining precision level along with accuracy.\n",
    "\n",
    "We have build and compared four different classification models:\n",
    "\n",
    " - **Random Forest Classifier**: Decision trees are widely used since they are easy to interpret, handle categorical features, extend to the multiclass classification setting, do not require feature scaling, and are able to capture non-linearities and feature interactions. A random forest is an ensemble of decision trees. Random forests combine many decision trees in order to reduce the risk of overfitting. Tree ensemble algorithms such as random forests and boosting are among the top performers for classification and regression tasks.\n",
    " \n",
    " - **Naive Bayes Classifier**: Naive Bayes Classifier is based on the bayesian theorem and is suited when the dimensionality of inputs is very high. In naive bayes classifier we assume that samples are independent and all features are given the same weights to classify an outcome. Here each distribution is assumed to have one dimensional distribution which helps in reducing the dimensionality problem. Despite it's simple architecture naive Bayes classifiers works really well in real world situations and that is the reason behind choosing this method.\n",
    " \n",
    " - **Gradient Boosting Classifier**: Like other boosting methods, gradient boosting combines weak \"learners\" into a single strong learner in an iterative fashion, typically decision trees. GBDT training generally takes longer because of the fact that trees are built sequentially. However, benchmark results have shown GBDT are better learners than Random Forests. \n",
    " \n",
    " - **Neural Network Classifier**: Neural network algorithm is based on the complex network of neurons in our brain. They process single record at a time and learns from comparing their classification with the actual classification of the record. The errors from the initial classification is then fed back to the network which is used to modify the algorithm for next iterations.\n",
    " \n",
    " \n"
   ]
  },
  {
   "cell_type": "markdown",
   "metadata": {},
   "source": [
    "## Random Forest Classifier"
   ]
  },
  {
   "cell_type": "code",
   "execution_count": 445,
   "metadata": {
    "collapsed": true
   },
   "outputs": [],
   "source": [
    "from sklearn.ensemble import RandomForestClassifier"
   ]
  },
  {
   "cell_type": "code",
   "execution_count": 539,
   "metadata": {
    "scrolled": true
   },
   "outputs": [
    {
     "name": "stdout",
     "output_type": "stream",
     "text": [
      "Wall time: 2min 18s\n"
     ]
    }
   ],
   "source": [
    "%%time\n",
    "model = RandomForestClassifier( max_depth=15, \n",
    "                                criterion=\"gini\",\n",
    "                                # Number of trees to train (>= 1)\n",
    "                                n_estimators=50, \n",
    "                                # The number of features to consider for splits at each tree node. \n",
    "                                # Supported options: auto, all, onethird, sqrt, log2, (0.0-1.0], [1-n].\n",
    "                                max_features =\"sqrt\")\n",
    "model.fit(train_x, train_y)\n",
    "\n",
    "#how many number of folds do we have??\n",
    "#folds are the subsamples that are used to train and validate our model.\n",
    "#what is max features equals to sqrt??\n"
   ]
  },
  {
   "cell_type": "markdown",
   "metadata": {},
   "source": [
    "In order to evaluate this model, we compare the actual failures listed in the test data with the predicted component failures over the test dataset. Since we haven't trained the model on the test data the test data simulates the available future data. Therefore evaluation can be generalized to how the model can perform in real time. "
   ]
  },
  {
   "cell_type": "code",
   "execution_count": 541,
   "metadata": {
    "collapsed": true
   },
   "outputs": [],
   "source": [
    "rfctest = pd.DataFrame(labeled_features.loc[labeled_features['datetime'] >= pd.to_datetime('2015-10-01 00:00:00')])\n",
    "rfctest['predicted_failure'] = model.predict(test_x)"
   ]
  },
  {
   "cell_type": "code",
   "execution_count": 542,
   "metadata": {
    "scrolled": true
   },
   "outputs": [
    {
     "data": {
      "text/html": [
       "<div>\n",
       "<style scoped>\n",
       "    .dataframe tbody tr th:only-of-type {\n",
       "        vertical-align: middle;\n",
       "    }\n",
       "\n",
       "    .dataframe tbody tr th {\n",
       "        vertical-align: top;\n",
       "    }\n",
       "\n",
       "    .dataframe thead th {\n",
       "        text-align: right;\n",
       "    }\n",
       "</style>\n",
       "<table border=\"1\" class=\"dataframe\">\n",
       "  <thead>\n",
       "    <tr style=\"text-align: right;\">\n",
       "      <th>predicted_failure</th>\n",
       "      <th>comp1</th>\n",
       "      <th>comp2</th>\n",
       "      <th>comp3</th>\n",
       "      <th>comp4</th>\n",
       "      <th>none</th>\n",
       "    </tr>\n",
       "    <tr>\n",
       "      <th>failure</th>\n",
       "      <th></th>\n",
       "      <th></th>\n",
       "      <th></th>\n",
       "      <th></th>\n",
       "      <th></th>\n",
       "    </tr>\n",
       "  </thead>\n",
       "  <tbody>\n",
       "    <tr>\n",
       "      <th>comp1</th>\n",
       "      <td>1341</td>\n",
       "      <td>26</td>\n",
       "      <td>1</td>\n",
       "      <td>9</td>\n",
       "      <td>2556</td>\n",
       "    </tr>\n",
       "    <tr>\n",
       "      <th>comp2</th>\n",
       "      <td>18</td>\n",
       "      <td>2018</td>\n",
       "      <td>5</td>\n",
       "      <td>6</td>\n",
       "      <td>3189</td>\n",
       "    </tr>\n",
       "    <tr>\n",
       "      <th>comp3</th>\n",
       "      <td>8</td>\n",
       "      <td>18</td>\n",
       "      <td>583</td>\n",
       "      <td>4</td>\n",
       "      <td>1264</td>\n",
       "    </tr>\n",
       "    <tr>\n",
       "      <th>comp4</th>\n",
       "      <td>14</td>\n",
       "      <td>20</td>\n",
       "      <td>2</td>\n",
       "      <td>946</td>\n",
       "      <td>1385</td>\n",
       "    </tr>\n",
       "    <tr>\n",
       "      <th>none</th>\n",
       "      <td>61</td>\n",
       "      <td>91</td>\n",
       "      <td>10</td>\n",
       "      <td>32</td>\n",
       "      <td>172472</td>\n",
       "    </tr>\n",
       "  </tbody>\n",
       "</table>\n",
       "</div>"
      ],
      "text/plain": [
       "predicted_failure  comp1  comp2  comp3  comp4    none\n",
       "failure                                              \n",
       "comp1               1341     26      1      9    2556\n",
       "comp2                 18   2018      5      6    3189\n",
       "comp3                  8     18    583      4    1264\n",
       "comp4                 14     20      2    946    1385\n",
       "none                  61     91     10     32  172472"
      ]
     },
     "execution_count": 542,
     "metadata": {},
     "output_type": "execute_result"
    }
   ],
   "source": [
    "from sklearn.metrics import confusion_matrix\n",
    "confuse = pd.crosstab(rfctest['failure'], rfctest['predicted_failure'])\n",
    "confuse"
   ]
  },
  {
   "cell_type": "code",
   "execution_count": 543,
   "metadata": {
    "scrolled": true
   },
   "outputs": [
    {
     "name": "stdout",
     "output_type": "stream",
     "text": [
      "Accuracy = 0.953144\n",
      "Precision = 0.937656\n",
      "Recall = 0.368017\n",
      "F1 = 0.528575\n"
     ]
    }
   ],
   "source": [
    "# select (prediction, true label) and compute test error\n",
    "# select (prediction, true label) and compute test error\n",
    "# True positives - diagonal failure terms \n",
    "tp = confuse['comp1'][0]+confuse['comp2'][1]+confuse['comp3'][2]+confuse['comp4'][3]\n",
    "\n",
    "# False positves - All failure terms - True positives\n",
    "fp = np.sum(np.sum(confuse[['comp1', 'comp2','comp3','comp4']])) - tp\n",
    "\n",
    "# True negatives \n",
    "tn = confuse['none'][4]\n",
    "\n",
    "# False negatives total of non-failure column - TN\n",
    "fn = np.sum(np.sum(confuse[['none']])) - tn\n",
    "\n",
    "# Accuracy is diagonal/total \n",
    "acc_n = tn + tp\n",
    "acc_d = np.sum(np.sum(confuse[['none','comp1', 'comp2','comp3','comp4']]))\n",
    "acc = acc_n/acc_d\n",
    "\n",
    "# Calculate precision and recall.\n",
    "prec = tp/(tp+fp)\n",
    "rec = tp/(tp+fn)\n",
    "\n",
    "# Print the evaluation metrics to the notebook\n",
    "print(\"Accuracy = %g\" % acc)\n",
    "print(\"Precision = %g\" % prec)\n",
    "print(\"Recall = %g\" % rec )\n",
    "print(\"F1 = %g\" % (2.0 * prec * rec/(prec + rec)))"
   ]
  },
  {
   "cell_type": "markdown",
   "metadata": {},
   "source": [
    "We have calculated confusion matrix which lists predicted failure in column and actual component failure in rows. Label 0 means there is no component failure. labels 1 to 4 showws compnent failures in respective components. \n",
    "\n",
    "The confusion matrix lists each true component failure in rows and the predicted value in columns. Labels numbered 0.0 corresponds to no component failures. Labels numbered 1.0 through 4.0 correspond to failures in one of the four components in the machine. As an example, the third number in the top row indicates how many days we predicted component 2 would fail, when no components actually did fail. The second number in the second row, indicates how many days we correctly predicted a component 1 failure within the next 7 days.\n",
    "\n",
    "The diagonal values in confusion matrix shows accurately classified component failures. Numbers above the diagonals indicate inaccurately classified failures when in reality a failure hasn't occured. Numbers below the diagonal indicates incorrect prediction of non-failure when a failure has occured in reality.\n",
    "\n",
    "For simplification of evaluation of confusion matrix, we have reduced the results in some performance statistic. This summary statistic can be different depending upon the problem domain.\n",
    "\n",
    "- **Accuracy**: Accuracy is a measure of how correctly we have predicted the labeled data. But, again when there is a class imbalance this measure becomes biased towards the class with more number of data. Here in our example non-failure class has more number of data then failure class.\n",
    "\n",
    "Due to this we look at some other statistics as mentioned below:\n",
    "Here positive samples indicates a failure of a machine.\n",
    "\n",
    "- **Precision**: Precision is used to determine how well the model classifies the truly positive samples. \n",
    " Precision depends on falsely classifying negative days as positive.\n",
    "\n",
    "- **Recall**: Recall is used to measure how well the model can find the positive samples.  \n",
    "Recall depends on falsely classifying positive days as negative.\n",
    "\n",
    "- **F1**: F1 is calculated using both precision and recall. F1 score is the harmonic average of precision and recall. F1 score of 1 corresponds to perfect precision and 0 corresponds to the worst performance."
   ]
  },
  {
   "cell_type": "code",
   "execution_count": 544,
   "metadata": {},
   "outputs": [
    {
     "data": {
      "image/png": "[encoded data removed]",
      "text/plain": [
       "<Figure size 432x288 with 1 Axes>"
      ]
     },
     "metadata": {},
     "output_type": "display_data"
    }
   ],
   "source": [
    "#Below, we plot the feature importances in the trained model\n",
    "import operator\n",
    "\n",
    "labels, importances = zip(*sorted(zip(test_x.columns, model.feature_importances_),\n",
    "                                  reverse=True,\n",
    "                                  key=operator.itemgetter(1)))\n",
    "plt.xticks(range(len(labels)), labels)\n",
    "_, labels = plt.xticks()\n",
    "plt.setp(labels, rotation=90)\n",
    "plt.bar(range(len(importances)), importances)\n",
    "plt.ylabel('Importance')\n",
    "plt.show()"
   ]
  },
  {
   "cell_type": "markdown",
   "metadata": {},
   "source": [
    "## Naive Bayes Model"
   ]
  },
  {
   "cell_type": "code",
   "execution_count": 545,
   "metadata": {
    "collapsed": true
   },
   "outputs": [],
   "source": [
    "from sklearn.naive_bayes import GaussianNB"
   ]
  },
  {
   "cell_type": "code",
   "execution_count": 721,
   "metadata": {
    "scrolled": true
   },
   "outputs": [
    {
     "name": "stdout",
     "output_type": "stream",
     "text": [
      "Wall time: 951 ms\n"
     ]
    }
   ],
   "source": [
    "%%time\n",
    "model = GaussianNB()\n",
    "model.fit(train_x, train_y)"
   ]
  },
  {
   "cell_type": "code",
   "execution_count": 722,
   "metadata": {
    "collapsed": true
   },
   "outputs": [],
   "source": [
    "gnbtest['predicted_failure'] = model.predict(test_x)"
   ]
  },
  {
   "cell_type": "code",
   "execution_count": 724,
   "metadata": {
    "scrolled": true
   },
   "outputs": [
    {
     "data": {
      "text/html": [
       "<div>\n",
       "<style scoped>\n",
       "    .dataframe tbody tr th:only-of-type {\n",
       "        vertical-align: middle;\n",
       "    }\n",
       "\n",
       "    .dataframe tbody tr th {\n",
       "        vertical-align: top;\n",
       "    }\n",
       "\n",
       "    .dataframe thead th {\n",
       "        text-align: right;\n",
       "    }\n",
       "</style>\n",
       "<table border=\"1\" class=\"dataframe\">\n",
       "  <thead>\n",
       "    <tr style=\"text-align: right;\">\n",
       "      <th>predicted_failure</th>\n",
       "      <th>comp1</th>\n",
       "      <th>comp2</th>\n",
       "      <th>comp3</th>\n",
       "      <th>comp4</th>\n",
       "      <th>none</th>\n",
       "    </tr>\n",
       "    <tr>\n",
       "      <th>failure</th>\n",
       "      <th></th>\n",
       "      <th></th>\n",
       "      <th></th>\n",
       "      <th></th>\n",
       "      <th></th>\n",
       "    </tr>\n",
       "  </thead>\n",
       "  <tbody>\n",
       "    <tr>\n",
       "      <th>comp1</th>\n",
       "      <td>1129</td>\n",
       "      <td>93</td>\n",
       "      <td>100</td>\n",
       "      <td>75</td>\n",
       "      <td>2536</td>\n",
       "    </tr>\n",
       "    <tr>\n",
       "      <th>comp2</th>\n",
       "      <td>94</td>\n",
       "      <td>1664</td>\n",
       "      <td>135</td>\n",
       "      <td>87</td>\n",
       "      <td>3256</td>\n",
       "    </tr>\n",
       "    <tr>\n",
       "      <th>comp3</th>\n",
       "      <td>21</td>\n",
       "      <td>32</td>\n",
       "      <td>780</td>\n",
       "      <td>9</td>\n",
       "      <td>1035</td>\n",
       "    </tr>\n",
       "    <tr>\n",
       "      <th>comp4</th>\n",
       "      <td>31</td>\n",
       "      <td>69</td>\n",
       "      <td>50</td>\n",
       "      <td>863</td>\n",
       "      <td>1354</td>\n",
       "    </tr>\n",
       "    <tr>\n",
       "      <th>none</th>\n",
       "      <td>2745</td>\n",
       "      <td>3653</td>\n",
       "      <td>4737</td>\n",
       "      <td>2787</td>\n",
       "      <td>158744</td>\n",
       "    </tr>\n",
       "  </tbody>\n",
       "</table>\n",
       "</div>"
      ],
      "text/plain": [
       "predicted_failure  comp1  comp2  comp3  comp4    none\n",
       "failure                                              \n",
       "comp1               1129     93    100     75    2536\n",
       "comp2                 94   1664    135     87    3256\n",
       "comp3                 21     32    780      9    1035\n",
       "comp4                 31     69     50    863    1354\n",
       "none                2745   3653   4737   2787  158744"
      ]
     },
     "execution_count": 724,
     "metadata": {},
     "output_type": "execute_result"
    }
   ],
   "source": [
    "confuse = pd.crosstab(gnbtest['failure'], gnbtest['predicted_failure'])\n",
    "confuse"
   ]
  },
  {
   "cell_type": "code",
   "execution_count": 549,
   "metadata": {
    "scrolled": false
   },
   "outputs": [
    {
     "name": "stdout",
     "output_type": "stream",
     "text": [
      "Accuracy = 0.876939\n",
      "Precision = 0.231597\n",
      "Recall = 0.351589\n",
      "F1 = 0.279248\n"
     ]
    }
   ],
   "source": [
    "# select (prediction, true label) and compute test error\n",
    "# select (prediction, true label) and compute test error\n",
    "# True positives - diagonal failure terms \n",
    "tp = confuse['comp1'][0]+confuse['comp2'][1]+confuse['comp3'][2]+confuse['comp4'][3]\n",
    "\n",
    "# False positves - All failure terms - True positives\n",
    "fp = np.sum(np.sum(confuse[['comp1', 'comp2','comp3','comp4']])) - tp\n",
    "\n",
    "# True negatives \n",
    "tn = confuse['none'][4]\n",
    "\n",
    "# False negatives total of non-failure column - TN\n",
    "fn = np.sum(np.sum(confuse[['none']])) - tn\n",
    "\n",
    "# Accuracy is diagonal/total \n",
    "acc_n = tn + tp\n",
    "acc_d = np.sum(np.sum(confuse[['none','comp1', 'comp2','comp3','comp4']]))\n",
    "acc = acc_n/acc_d\n",
    "\n",
    "# Calculate precision and recall.\n",
    "prec = tp/(tp+fp)\n",
    "rec = tp/(tp+fn)\n",
    "\n",
    "# Print the evaluation metrics to the notebook\n",
    "print(\"Accuracy = %g\" % acc)\n",
    "print(\"Precision = %g\" % prec)\n",
    "print(\"Recall = %g\" % rec )\n",
    "print(\"F1 = %g\" % (2.0 * prec * rec/(prec + rec)))"
   ]
  },
  {
   "cell_type": "markdown",
   "metadata": {
    "collapsed": true
   },
   "source": [
    "## Gradient Boosting Classifier"
   ]
  },
  {
   "cell_type": "code",
   "execution_count": 725,
   "metadata": {
    "collapsed": true
   },
   "outputs": [],
   "source": [
    "from sklearn.ensemble import GradientBoostingClassifier"
   ]
  },
  {
   "cell_type": "code",
   "execution_count": 726,
   "metadata": {
    "scrolled": true
   },
   "outputs": [
    {
     "name": "stdout",
     "output_type": "stream",
     "text": [
      "Wall time: 13min 2s\n"
     ]
    }
   ],
   "source": [
    "%%time\n",
    "model = GradientBoostingClassifier()\n",
    "model.fit(train_x, train_y)"
   ]
  },
  {
   "cell_type": "code",
   "execution_count": 727,
   "metadata": {
    "collapsed": true
   },
   "outputs": [],
   "source": [
    "gbctest = pd.DataFrame(labeled_features.loc[labeled_features['datetime'] >= pd.to_datetime('2015-10-01 00:00:00')])\n",
    "gbctest['predicted_failure'] = model.predict(test_x)"
   ]
  },
  {
   "cell_type": "code",
   "execution_count": 728,
   "metadata": {
    "scrolled": true
   },
   "outputs": [
    {
     "data": {
      "text/html": [
       "<div>\n",
       "<style scoped>\n",
       "    .dataframe tbody tr th:only-of-type {\n",
       "        vertical-align: middle;\n",
       "    }\n",
       "\n",
       "    .dataframe tbody tr th {\n",
       "        vertical-align: top;\n",
       "    }\n",
       "\n",
       "    .dataframe thead th {\n",
       "        text-align: right;\n",
       "    }\n",
       "</style>\n",
       "<table border=\"1\" class=\"dataframe\">\n",
       "  <thead>\n",
       "    <tr style=\"text-align: right;\">\n",
       "      <th>predicted_failure</th>\n",
       "      <th>comp1</th>\n",
       "      <th>comp2</th>\n",
       "      <th>comp3</th>\n",
       "      <th>comp4</th>\n",
       "      <th>none</th>\n",
       "    </tr>\n",
       "    <tr>\n",
       "      <th>failure</th>\n",
       "      <th></th>\n",
       "      <th></th>\n",
       "      <th></th>\n",
       "      <th></th>\n",
       "      <th></th>\n",
       "    </tr>\n",
       "  </thead>\n",
       "  <tbody>\n",
       "    <tr>\n",
       "      <th>comp1</th>\n",
       "      <td>1530</td>\n",
       "      <td>52</td>\n",
       "      <td>11</td>\n",
       "      <td>37</td>\n",
       "      <td>2303</td>\n",
       "    </tr>\n",
       "    <tr>\n",
       "      <th>comp2</th>\n",
       "      <td>35</td>\n",
       "      <td>2107</td>\n",
       "      <td>19</td>\n",
       "      <td>23</td>\n",
       "      <td>3052</td>\n",
       "    </tr>\n",
       "    <tr>\n",
       "      <th>comp3</th>\n",
       "      <td>10</td>\n",
       "      <td>20</td>\n",
       "      <td>737</td>\n",
       "      <td>8</td>\n",
       "      <td>1102</td>\n",
       "    </tr>\n",
       "    <tr>\n",
       "      <th>comp4</th>\n",
       "      <td>12</td>\n",
       "      <td>24</td>\n",
       "      <td>6</td>\n",
       "      <td>1038</td>\n",
       "      <td>1287</td>\n",
       "    </tr>\n",
       "    <tr>\n",
       "      <th>none</th>\n",
       "      <td>184</td>\n",
       "      <td>175</td>\n",
       "      <td>68</td>\n",
       "      <td>96</td>\n",
       "      <td>172143</td>\n",
       "    </tr>\n",
       "  </tbody>\n",
       "</table>\n",
       "</div>"
      ],
      "text/plain": [
       "predicted_failure  comp1  comp2  comp3  comp4    none\n",
       "failure                                              \n",
       "comp1               1530     52     11     37    2303\n",
       "comp2                 35   2107     19     23    3052\n",
       "comp3                 10     20    737      8    1102\n",
       "comp4                 12     24      6   1038    1287\n",
       "none                 184    175     68     96  172143"
      ]
     },
     "execution_count": 728,
     "metadata": {},
     "output_type": "execute_result"
    }
   ],
   "source": [
    "confuse = pd.crosstab(gbctest['failure'], gbctest['predicted_failure'])\n",
    "confuse"
   ]
  },
  {
   "cell_type": "code",
   "execution_count": 729,
   "metadata": {
    "scrolled": true
   },
   "outputs": [
    {
     "name": "stdout",
     "output_type": "stream",
     "text": [
      "Accuracy = 0.954191\n",
      "Precision = 0.874031\n",
      "Recall = 0.411371\n",
      "F1 = 0.559438\n"
     ]
    }
   ],
   "source": [
    "# select (prediction, true label) and compute test error\n",
    "# select (prediction, true label) and compute test error\n",
    "# True positives - diagonal failure terms \n",
    "tp = confuse['comp1'][0]+confuse['comp2'][1]+confuse['comp3'][2]+confuse['comp4'][3]\n",
    "\n",
    "# False positves - All failure terms - True positives\n",
    "fp = np.sum(np.sum(confuse[['comp1', 'comp2','comp3','comp4']])) - tp\n",
    "\n",
    "# True negatives \n",
    "tn = confuse['none'][4]\n",
    "\n",
    "# False negatives total of non-failure column - TN\n",
    "fn = np.sum(np.sum(confuse[['none']])) - tn\n",
    "\n",
    "# Accuracy is diagonal/total \n",
    "acc_n = tn + tp\n",
    "acc_d = np.sum(np.sum(confuse[['none','comp1', 'comp2','comp3','comp4']]))\n",
    "acc = acc_n/acc_d\n",
    "\n",
    "# Calculate precision and recall.\n",
    "prec = tp/(tp+fp)\n",
    "rec = tp/(tp+fn)\n",
    "\n",
    "# Print the evaluation metrics to the notebook\n",
    "print(\"Accuracy = %g\" % acc)\n",
    "print(\"Precision = %g\" % prec)\n",
    "print(\"Recall = %g\" % rec )\n",
    "print(\"F1 = %g\" % (2.0 * prec * rec/(prec + rec)))"
   ]
  },
  {
   "cell_type": "code",
   "execution_count": 730,
   "metadata": {},
   "outputs": [
    {
     "data": {
      "image/png": "[encoded data removed]",
      "text/plain": [
       "<Figure size 432x288 with 1 Axes>"
      ]
     },
     "metadata": {},
     "output_type": "display_data"
    }
   ],
   "source": [
    "#Below, we plot the feature importances in the trained model\n",
    "\n",
    "labels, importances = zip(*sorted(zip(test_x.columns, model.feature_importances_),\n",
    "                                  reverse=True,\n",
    "                                  key=operator.itemgetter(1)))\n",
    "plt.xticks(range(len(labels)), labels)\n",
    "_, labels = plt.xticks()\n",
    "plt.setp(labels, rotation=90)\n",
    "plt.bar(range(len(importances)), importances)\n",
    "plt.ylabel('Importance')\n",
    "plt.show()"
   ]
  },
  {
   "cell_type": "markdown",
   "metadata": {
    "collapsed": true
   },
   "source": [
    "## Neural Network Model"
   ]
  },
  {
   "cell_type": "code",
   "execution_count": 671,
   "metadata": {
    "collapsed": true
   },
   "outputs": [],
   "source": [
    "from keras.models import Sequential #neural network for a sequence of layers\n",
    "from keras.layers import Dense #Standard neural network layer\n",
    "from keras.layers import Activation #Non-linear functions in the neural network to make it non-linear."
   ]
  },
  {
   "cell_type": "code",
   "execution_count": 674,
   "metadata": {
    "collapsed": true
   },
   "outputs": [],
   "source": [
    "from sklearn.preprocessing import LabelEncoder\n",
    "from keras.utils import np_utils\n",
    "# encode class values as integers\n",
    "enc = LabelEncoder()\n",
    "enc.fit(train_y)\n",
    "train_y = enc.transform(train_y)\n",
    "# convert integers to dummy variables (i.e. one hot encoded)\n",
    "train_y = np_utils.to_categorical(train_y)"
   ]
  },
  {
   "cell_type": "code",
   "execution_count": 675,
   "metadata": {
    "collapsed": true
   },
   "outputs": [],
   "source": [
    "model = Sequential()\n",
    "model.add(Dense(12, input_dim=26, activation='relu'))\n",
    "model.add(Dense(8, activation='relu'))\n",
    "model.add(Dropout(0.2))\n",
    "model.add(Dense(5, activation='softmax'))"
   ]
  },
  {
   "cell_type": "code",
   "execution_count": 676,
   "metadata": {
    "collapsed": true
   },
   "outputs": [],
   "source": [
    "model.compile(loss='categorical_crossentropy', optimizer='adam', metrics=['accuracy'])"
   ]
  },
  {
   "cell_type": "code",
   "execution_count": 677,
   "metadata": {
    "scrolled": false
   },
   "outputs": [
    {
     "name": "stdout",
     "output_type": "stream",
     "text": [
      "Epoch 1/10\n",
      "543281/543281 [==============================] - 20s 36us/step - loss: 0.5396 - acc: 0.9284\n",
      "Epoch 2/10\n",
      "543281/543281 [==============================] - 21s 39us/step - loss: 0.3336 - acc: 0.9303\n",
      "Epoch 3/10\n",
      "543281/543281 [==============================] - 20s 37us/step - loss: 0.3294 - acc: 0.9303\n",
      "Epoch 4/10\n",
      "543281/543281 [==============================] - 21s 39us/step - loss: 0.3262 - acc: 0.9303\n",
      "Epoch 5/10\n",
      "543281/543281 [==============================] - 18s 34us/step - loss: 0.3237 - acc: 0.9303\n",
      "Epoch 6/10\n",
      "543281/543281 [==============================] - 18s 33us/step - loss: 0.3190 - acc: 0.9303\n",
      "Epoch 7/10\n",
      "543281/543281 [==============================] - 17s 32us/step - loss: 0.2925 - acc: 0.9340\n",
      "Epoch 8/10\n",
      "543281/543281 [==============================] - 17s 32us/step - loss: 0.2826 - acc: 0.9347\n",
      "Epoch 9/10\n",
      "543281/543281 [==============================] - 22s 40us/step - loss: 0.2807 - acc: 0.9349\n",
      "Epoch 10/10\n",
      "543281/543281 [==============================] - 20s 36us/step - loss: 0.2772 - acc: 0.9352 0s - loss: 0.2772 - acc: 0\n",
      "Wall time: 3min 14s\n"
     ]
    },
    {
     "data": {
      "text/plain": [
       "<keras.callbacks.History at 0x2075a964b00>"
      ]
     },
     "execution_count": 677,
     "metadata": {},
     "output_type": "execute_result"
    }
   ],
   "source": [
    "%%time\n",
    "model.fit(train_x, train_y, epochs=100)"
   ]
  },
  {
   "cell_type": "code",
   "execution_count": 667,
   "metadata": {},
   "outputs": [
    {
     "name": "stderr",
     "output_type": "stream",
     "text": [
      "D:\\Workspace\\Python\\Anaconda3\\lib\\site-packages\\sklearn\\preprocessing\\label.py:151: DeprecationWarning: The truth value of an empty array is ambiguous. Returning False, but in future this will result in an error. Use `array.size > 0` to check that an array is not empty.\n",
      "  if diff:\n"
     ]
    }
   ],
   "source": [
    "nntest = pd.DataFrame(labeled_features.loc[labeled_features['datetime'] >= pd.to_datetime('2015-10-01 00:00:00')])\n",
    "pred = model.predict(test_x)\n",
    "pred = np.argmax(pred, axis=1) \n",
    "nntest['predicted_failure'] = enc.inverse_transform(pred)"
   ]
  },
  {
   "cell_type": "code",
   "execution_count": 668,
   "metadata": {
    "scrolled": false
   },
   "outputs": [
    {
     "data": {
      "text/html": [
       "<div>\n",
       "<style scoped>\n",
       "    .dataframe tbody tr th:only-of-type {\n",
       "        vertical-align: middle;\n",
       "    }\n",
       "\n",
       "    .dataframe tbody tr th {\n",
       "        vertical-align: top;\n",
       "    }\n",
       "\n",
       "    .dataframe thead th {\n",
       "        text-align: right;\n",
       "    }\n",
       "</style>\n",
       "<table border=\"1\" class=\"dataframe\">\n",
       "  <thead>\n",
       "    <tr style=\"text-align: right;\">\n",
       "      <th>predicted_failure</th>\n",
       "      <th>none</th>\n",
       "    </tr>\n",
       "    <tr>\n",
       "      <th>failure</th>\n",
       "      <th></th>\n",
       "    </tr>\n",
       "  </thead>\n",
       "  <tbody>\n",
       "    <tr>\n",
       "      <th>comp1</th>\n",
       "      <td>3933</td>\n",
       "    </tr>\n",
       "    <tr>\n",
       "      <th>comp2</th>\n",
       "      <td>5236</td>\n",
       "    </tr>\n",
       "    <tr>\n",
       "      <th>comp3</th>\n",
       "      <td>1877</td>\n",
       "    </tr>\n",
       "    <tr>\n",
       "      <th>comp4</th>\n",
       "      <td>2367</td>\n",
       "    </tr>\n",
       "    <tr>\n",
       "      <th>none</th>\n",
       "      <td>172666</td>\n",
       "    </tr>\n",
       "  </tbody>\n",
       "</table>\n",
       "</div>"
      ],
      "text/plain": [
       "predicted_failure    none\n",
       "failure                  \n",
       "comp1                3933\n",
       "comp2                5236\n",
       "comp3                1877\n",
       "comp4                2367\n",
       "none               172666"
      ]
     },
     "execution_count": 668,
     "metadata": {},
     "output_type": "execute_result"
    }
   ],
   "source": [
    "confuse = pd.crosstab(nntest['failure'], nntest['predicted_failure'])\n",
    "confuse"
   ]
  }
 ],
 "metadata": {
  "kernelspec": {
   "display_name": "Python 3",
   "language": "python",
   "name": "python3"
  },
  "language_info": {
   "codemirror_mode": {
    "name": "ipython",
    "version": 3
   },
   "file_extension": ".py",
   "mimetype": "text/x-python",
   "name": "python",
   "nbconvert_exporter": "python",
   "pygments_lexer": "ipython3",
   "version": "3.6.5"
  }
 },
 "nbformat": 4,
 "nbformat_minor": 2
}
